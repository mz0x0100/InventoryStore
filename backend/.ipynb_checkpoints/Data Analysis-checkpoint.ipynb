{
 "cells": [
  {
   "cell_type": "code",
   "execution_count": 2,
   "metadata": {},
   "outputs": [],
   "source": [
    "import sqlite3\n",
    "import numpy as np\n",
    "import pandas as pd\n",
    "import matplotlib.pyplot as plt\n",
    "%matplotlib inline"
   ]
  },
  {
   "cell_type": "markdown",
   "metadata": {},
   "source": [
    "## Data investigation\n",
    "\n",
    "### Load the data\n"
   ]
  },
  {
   "cell_type": "code",
   "execution_count": 3,
   "metadata": {},
   "outputs": [
    {
     "data": {
      "text/html": [
       "<div>\n",
       "<style scoped>\n",
       "    .dataframe tbody tr th:only-of-type {\n",
       "        vertical-align: middle;\n",
       "    }\n",
       "\n",
       "    .dataframe tbody tr th {\n",
       "        vertical-align: top;\n",
       "    }\n",
       "\n",
       "    .dataframe thead th {\n",
       "        text-align: right;\n",
       "    }\n",
       "</style>\n",
       "<table border=\"1\" class=\"dataframe\">\n",
       "  <thead>\n",
       "    <tr style=\"text-align: right;\">\n",
       "      <th></th>\n",
       "      <th>SN</th>\n",
       "      <th>PSN</th>\n",
       "      <th>Full Name</th>\n",
       "      <th>Gender</th>\n",
       "      <th>Marital Status</th>\n",
       "      <th>Religion</th>\n",
       "      <th>DOB</th>\n",
       "      <th>GSM</th>\n",
       "      <th>Email</th>\n",
       "      <th>STATE OF ORIGIN</th>\n",
       "      <th>...</th>\n",
       "      <th>NIN</th>\n",
       "      <th>TRCN</th>\n",
       "      <th>Workload</th>\n",
       "      <th>Next of Kin</th>\n",
       "      <th>Relationship</th>\n",
       "      <th>Address.1</th>\n",
       "      <th>Kin GSM</th>\n",
       "      <th>Approved By</th>\n",
       "      <th>Date Approved</th>\n",
       "      <th>Approval Status</th>\n",
       "    </tr>\n",
       "  </thead>\n",
       "  <tbody>\n",
       "    <tr>\n",
       "      <th>0</th>\n",
       "      <td>1</td>\n",
       "      <td>NaN</td>\n",
       "      <td>IBRAHIM UMAR S. FADA</td>\n",
       "      <td>MALE</td>\n",
       "      <td>MARRIED</td>\n",
       "      <td>ISLAM</td>\n",
       "      <td>16/10/1986</td>\n",
       "      <td>07039426873</td>\n",
       "      <td>sfadadeba12@gmail.com</td>\n",
       "      <td>GOMBE</td>\n",
       "      <td>...</td>\n",
       "      <td>2.138724e+10</td>\n",
       "      <td>GB/P/02686</td>\n",
       "      <td>NaN</td>\n",
       "      <td>YAKUBU IBRAHIM</td>\n",
       "      <td>BROTHER</td>\n",
       "      <td>FAGE DEBA</td>\n",
       "      <td>07064359214</td>\n",
       "      <td>NaN</td>\n",
       "      <td>NaN</td>\n",
       "      <td>NaN</td>\n",
       "    </tr>\n",
       "    <tr>\n",
       "      <th>1</th>\n",
       "      <td>2</td>\n",
       "      <td>NaN</td>\n",
       "      <td>ABUBAKAR SALIHU MODIBBO</td>\n",
       "      <td>MALE</td>\n",
       "      <td>SINGLE</td>\n",
       "      <td>ISLAM</td>\n",
       "      <td>06/06/1994</td>\n",
       "      <td>09037849647</td>\n",
       "      <td>salihumodibbo@gmail.com</td>\n",
       "      <td>GOMBE</td>\n",
       "      <td>...</td>\n",
       "      <td>8.569531e+10</td>\n",
       "      <td>NaN</td>\n",
       "      <td>NaN</td>\n",
       "      <td>IBRAHIM A. MODIBBO</td>\n",
       "      <td>BROTHER</td>\n",
       "      <td>BYPASS GOMBE</td>\n",
       "      <td>08022310261</td>\n",
       "      <td>NaN</td>\n",
       "      <td>NaN</td>\n",
       "      <td>NaN</td>\n",
       "    </tr>\n",
       "    <tr>\n",
       "      <th>2</th>\n",
       "      <td>3</td>\n",
       "      <td>NaN</td>\n",
       "      <td>IBRAHIM UMAR MURTALA</td>\n",
       "      <td>MALE</td>\n",
       "      <td>MARRIED</td>\n",
       "      <td>ISLAM</td>\n",
       "      <td>10/03/1988</td>\n",
       "      <td>07038395594</td>\n",
       "      <td>NaN</td>\n",
       "      <td>GOMBE</td>\n",
       "      <td>...</td>\n",
       "      <td>7.671126e+10</td>\n",
       "      <td>NaN</td>\n",
       "      <td>NaN</td>\n",
       "      <td>MUHAMMAD MUSTAPHA MURTALA</td>\n",
       "      <td>BROTHER</td>\n",
       "      <td>CHIROMA QUARTERS DUKKU</td>\n",
       "      <td>08036180482</td>\n",
       "      <td>NaN</td>\n",
       "      <td>NaN</td>\n",
       "      <td>NaN</td>\n",
       "    </tr>\n",
       "    <tr>\n",
       "      <th>3</th>\n",
       "      <td>4</td>\n",
       "      <td>NaN</td>\n",
       "      <td>JEHOIDA KELMI LAZARUS</td>\n",
       "      <td>MALE</td>\n",
       "      <td>SINGLE</td>\n",
       "      <td>CHRISTIANITY</td>\n",
       "      <td>30/12/1998</td>\n",
       "      <td>08133776633</td>\n",
       "      <td>jehoikelmi@gmail.com</td>\n",
       "      <td>GOMBE</td>\n",
       "      <td>...</td>\n",
       "      <td>3.015013e+10</td>\n",
       "      <td>NaN</td>\n",
       "      <td>NaN</td>\n",
       "      <td>ALEX KELMI LAZARUS</td>\n",
       "      <td>BROTHER</td>\n",
       "      <td>H52 INVESTIMENT QTS TUMFURE GOMBE</td>\n",
       "      <td>08160959861</td>\n",
       "      <td>NaN</td>\n",
       "      <td>NaN</td>\n",
       "      <td>NaN</td>\n",
       "    </tr>\n",
       "    <tr>\n",
       "      <th>4</th>\n",
       "      <td>5</td>\n",
       "      <td>NaN</td>\n",
       "      <td>NAJIB USMAN</td>\n",
       "      <td>MALE</td>\n",
       "      <td>SINGLE</td>\n",
       "      <td>ISLAM</td>\n",
       "      <td>26/05/1991</td>\n",
       "      <td>08032835929</td>\n",
       "      <td>usmannajib20@gmail.com</td>\n",
       "      <td>GOMBE</td>\n",
       "      <td>...</td>\n",
       "      <td>5.845600e+10</td>\n",
       "      <td>NaN</td>\n",
       "      <td>NaN</td>\n",
       "      <td>USMAN</td>\n",
       "      <td>TEACHER</td>\n",
       "      <td>GONA QUARTERS DUKKU</td>\n",
       "      <td>08022608991</td>\n",
       "      <td>NaN</td>\n",
       "      <td>NaN</td>\n",
       "      <td>NaN</td>\n",
       "    </tr>\n",
       "  </tbody>\n",
       "</table>\n",
       "<p>5 rows × 47 columns</p>\n",
       "</div>"
      ],
      "text/plain": [
       "   SN  PSN                Full Name Gender Marital Status      Religion  \\\n",
       "0   1  NaN     IBRAHIM UMAR S. FADA   MALE        MARRIED         ISLAM   \n",
       "1   2  NaN  ABUBAKAR SALIHU MODIBBO   MALE         SINGLE         ISLAM   \n",
       "2   3  NaN     IBRAHIM UMAR MURTALA   MALE        MARRIED         ISLAM   \n",
       "3   4  NaN    JEHOIDA KELMI LAZARUS  MALE          SINGLE  CHRISTIANITY   \n",
       "4   5  NaN              NAJIB USMAN   MALE         SINGLE         ISLAM   \n",
       "\n",
       "          DOB          GSM                    Email STATE OF ORIGIN  ...  \\\n",
       "0  16/10/1986  07039426873    sfadadeba12@gmail.com           GOMBE  ...   \n",
       "1  06/06/1994  09037849647  salihumodibbo@gmail.com          GOMBE   ...   \n",
       "2  10/03/1988  07038395594                      NaN          GOMBE   ...   \n",
       "3  30/12/1998  08133776633     jehoikelmi@gmail.com           GOMBE  ...   \n",
       "4  26/05/1991  08032835929   usmannajib20@gmail.com           GOMBE  ...   \n",
       "\n",
       "            NIN        TRCN Workload                Next of Kin Relationship  \\\n",
       "0  2.138724e+10  GB/P/02686      NaN             YAKUBU IBRAHIM      BROTHER   \n",
       "1  8.569531e+10         NaN      NaN         IBRAHIM A. MODIBBO      BROTHER   \n",
       "2  7.671126e+10         NaN      NaN  MUHAMMAD MUSTAPHA MURTALA      BROTHER   \n",
       "3  3.015013e+10         NaN      NaN         ALEX KELMI LAZARUS      BROTHER   \n",
       "4  5.845600e+10         NaN      NaN                      USMAN      TEACHER   \n",
       "\n",
       "                           Address.1      Kin GSM Approved By  Date Approved  \\\n",
       "0                          FAGE DEBA  07064359214         NaN            NaN   \n",
       "1                       BYPASS GOMBE  08022310261         NaN            NaN   \n",
       "2             CHIROMA QUARTERS DUKKU  08036180482         NaN            NaN   \n",
       "3  H52 INVESTIMENT QTS TUMFURE GOMBE  08160959861         NaN            NaN   \n",
       "4                GONA QUARTERS DUKKU  08022608991         NaN            NaN   \n",
       "\n",
       "   Approval Status  \n",
       "0              NaN  \n",
       "1              NaN  \n",
       "2              NaN  \n",
       "3              NaN  \n",
       "4              NaN  \n",
       "\n",
       "[5 rows x 47 columns]"
      ]
     },
     "execution_count": 3,
     "metadata": {},
     "output_type": "execute_result"
    }
   ],
   "source": [
    "data = pd.read_excel('Staff Data.xlsx', sheet_name='Staff Data (Merged)')\n",
    "data.head()"
   ]
  },
  {
   "cell_type": "markdown",
   "metadata": {},
   "source": [
    "### Shape of the data\n",
    "\n",
    "- 738 data entries\n",
    "- 47 features\n"
   ]
  },
  {
   "cell_type": "code",
   "execution_count": 4,
   "metadata": {},
   "outputs": [
    {
     "data": {
      "text/plain": [
       "(738, 47)"
      ]
     },
     "execution_count": 4,
     "metadata": {},
     "output_type": "execute_result"
    }
   ],
   "source": [
    "data.shape"
   ]
  },
  {
   "cell_type": "code",
   "execution_count": 5,
   "metadata": {},
   "outputs": [
    {
     "data": {
      "text/plain": [
       "Index(['SN', 'PSN', 'Full Name', 'Gender', 'Marital Status', 'Religion', 'DOB',\n",
       "       'GSM', 'Email', 'STATE OF ORIGIN', 'LGA', 'HOMETOWN', 'Address',\n",
       "       'Area Office', 'Station Category', 'Station',\n",
       "       'Date of First Appointment', 'Date of Present Appointment', 'EDR AGE',\n",
       "       'EDR YOS', 'Grade Level', 'Present Rank', 'Cadre Class', 'Cadre',\n",
       "       'Appointment Type', 'Qualification Class', 'Highest Qualification',\n",
       "       'Professional Qualification', 'Specialization', 'Responsibility',\n",
       "       'Subject Class', 'Subject Taught', 'relevant_subject_class',\n",
       "       'relevant_subject', 'Bank', 'Account Number', 'BVN', 'NIN', 'TRCN',\n",
       "       'Workload', 'Next of Kin', 'Relationship', 'Address.1', 'Kin GSM',\n",
       "       'Approved By', 'Date Approved', 'Approval Status'],\n",
       "      dtype='object')"
      ]
     },
     "execution_count": 5,
     "metadata": {},
     "output_type": "execute_result"
    }
   ],
   "source": [
    "data.columns"
   ]
  },
  {
   "cell_type": "markdown",
   "metadata": {},
   "source": [
    "### Cleaning categorical columns\n",
    "\n",
    "- Investigate categorical columns\n",
    "  - Gender\n",
    "  - Marital Status\n",
    "  - Religion\n",
    "  - State of origin\n",
    "  - LGA\n",
    "  - Candre class\n",
    "  - Candre\n",
    "  - Appointment type\n",
    "  - Qualification class\n",
    "  - Responsibility\n",
    "- Clean categorical data entries\n",
    "  - Ensure that all data entries use the same naming for the values\n"
   ]
  },
  {
   "cell_type": "markdown",
   "metadata": {},
   "source": [
    "#### 1: Gender\n"
   ]
  },
  {
   "cell_type": "code",
   "execution_count": 6,
   "metadata": {},
   "outputs": [
    {
     "data": {
      "text/plain": [
       "array(['MALE', 'MALE ', 'FEMALE'], dtype=object)"
      ]
     },
     "execution_count": 6,
     "metadata": {},
     "output_type": "execute_result"
    }
   ],
   "source": [
    "data['Gender'].unique()"
   ]
  },
  {
   "cell_type": "markdown",
   "metadata": {},
   "source": [
    "- We can see that we've two MALE instead of just one, the reason was bcoz there's a space after the last name\n"
   ]
  },
  {
   "cell_type": "code",
   "execution_count": 7,
   "metadata": {},
   "outputs": [
    {
     "data": {
      "text/plain": [
       "MALE      449\n",
       "FEMALE    279\n",
       "MALE       10\n",
       "Name: Gender, dtype: int64"
      ]
     },
     "execution_count": 7,
     "metadata": {},
     "output_type": "execute_result"
    }
   ],
   "source": [
    "data['Gender'].value_counts()"
   ]
  },
  {
   "cell_type": "code",
   "execution_count": 8,
   "metadata": {},
   "outputs": [],
   "source": [
    "# Get there indexes\n",
    "indexes = data[data['Gender'] == 'MALE ']['Gender'].index\n",
    "data.loc[indexes, 'Gender'] = 'MALE'"
   ]
  },
  {
   "cell_type": "code",
   "execution_count": 9,
   "metadata": {},
   "outputs": [
    {
     "data": {
      "text/plain": [
       "Gender\n",
       "FEMALE    279\n",
       "MALE      459\n",
       "Name: Gender, dtype: int64"
      ]
     },
     "execution_count": 9,
     "metadata": {},
     "output_type": "execute_result"
    }
   ],
   "source": [
    "data.groupby('Gender')['Gender'].count()"
   ]
  },
  {
   "cell_type": "code",
   "execution_count": 10,
   "metadata": {},
   "outputs": [
    {
     "data": {
      "text/plain": [
       "<AxesSubplot:title={'center':'Number of Staffs'}, ylabel='Gender'>"
      ]
     },
     "execution_count": 10,
     "metadata": {},
     "output_type": "execute_result"
    },
    {
     "data": {
      "image/png": "[encoded data removed]",
      "text/plain": [
       "<Figure size 640x480 with 1 Axes>"
      ]
     },
     "metadata": {},
     "output_type": "display_data"
    }
   ],
   "source": [
    "mask = data['Gender'] == 'MALE'\n",
    "mask.value_counts().plot.pie(\n",
    "    labels=['MALE', 'FEMALE'], autopct='%1.2f%%', title='Number of Staffs')"
   ]
  },
  {
   "cell_type": "markdown",
   "metadata": {},
   "source": [
    "#### 2: Marital Status\n"
   ]
  },
  {
   "cell_type": "code",
   "execution_count": 11,
   "metadata": {},
   "outputs": [
    {
     "data": {
      "text/plain": [
       "array(['MARRIED', 'SINGLE', 'WIDOW', 'MALE', nan, 'MARRRIED'],\n",
       "      dtype=object)"
      ]
     },
     "execution_count": 11,
     "metadata": {},
     "output_type": "execute_result"
    }
   ],
   "source": [
    "data['Marital Status'].unique()"
   ]
  },
  {
   "cell_type": "code",
   "execution_count": 12,
   "metadata": {},
   "outputs": [
    {
     "data": {
      "text/plain": [
       "Marital Status\n",
       "MALE          1\n",
       "MARRIED     483\n",
       "MARRRIED      4\n",
       "SINGLE      248\n",
       "WIDOW         1\n",
       "Name: Marital Status, dtype: int64"
      ]
     },
     "execution_count": 12,
     "metadata": {},
     "output_type": "execute_result"
    }
   ],
   "source": [
    "data.groupby('Marital Status')['Marital Status'].count()"
   ]
  },
  {
   "cell_type": "code",
   "execution_count": 13,
   "metadata": {},
   "outputs": [
    {
     "data": {
      "text/html": [
       "<div>\n",
       "<style scoped>\n",
       "    .dataframe tbody tr th:only-of-type {\n",
       "        vertical-align: middle;\n",
       "    }\n",
       "\n",
       "    .dataframe tbody tr th {\n",
       "        vertical-align: top;\n",
       "    }\n",
       "\n",
       "    .dataframe thead th {\n",
       "        text-align: right;\n",
       "    }\n",
       "</style>\n",
       "<table border=\"1\" class=\"dataframe\">\n",
       "  <thead>\n",
       "    <tr style=\"text-align: right;\">\n",
       "      <th></th>\n",
       "      <th>SN</th>\n",
       "      <th>PSN</th>\n",
       "      <th>Full Name</th>\n",
       "      <th>Gender</th>\n",
       "      <th>Marital Status</th>\n",
       "      <th>Religion</th>\n",
       "      <th>DOB</th>\n",
       "      <th>GSM</th>\n",
       "      <th>Email</th>\n",
       "      <th>STATE OF ORIGIN</th>\n",
       "      <th>...</th>\n",
       "      <th>NIN</th>\n",
       "      <th>TRCN</th>\n",
       "      <th>Workload</th>\n",
       "      <th>Next of Kin</th>\n",
       "      <th>Relationship</th>\n",
       "      <th>Address.1</th>\n",
       "      <th>Kin GSM</th>\n",
       "      <th>Approved By</th>\n",
       "      <th>Date Approved</th>\n",
       "      <th>Approval Status</th>\n",
       "    </tr>\n",
       "  </thead>\n",
       "  <tbody>\n",
       "    <tr>\n",
       "      <th>355</th>\n",
       "      <td>356</td>\n",
       "      <td>NaN</td>\n",
       "      <td>AISHA MUHAMMAD ABUBAKAR</td>\n",
       "      <td>FEMALE</td>\n",
       "      <td>MALE</td>\n",
       "      <td>ISLAM</td>\n",
       "      <td>1997-01-01 00:00:00</td>\n",
       "      <td>08104843313</td>\n",
       "      <td>aishambabubakar@gmail.com</td>\n",
       "      <td>GOMBE</td>\n",
       "      <td>...</td>\n",
       "      <td>2.087501e+10</td>\n",
       "      <td>NaN</td>\n",
       "      <td>NaN</td>\n",
       "      <td>MUHAMMAD ABUBAKAR</td>\n",
       "      <td>FATHER</td>\n",
       "      <td>KASHERE ROAD, GOMBE</td>\n",
       "      <td>08036140917</td>\n",
       "      <td>NaN</td>\n",
       "      <td>NaN</td>\n",
       "      <td>NaN</td>\n",
       "    </tr>\n",
       "  </tbody>\n",
       "</table>\n",
       "<p>1 rows × 47 columns</p>\n",
       "</div>"
      ],
      "text/plain": [
       "      SN  PSN                Full Name  Gender Marital Status Religion  \\\n",
       "355  356  NaN  AISHA MUHAMMAD ABUBAKAR  FEMALE           MALE    ISLAM   \n",
       "\n",
       "                     DOB          GSM                      Email  \\\n",
       "355  1997-01-01 00:00:00  08104843313  aishambabubakar@gmail.com   \n",
       "\n",
       "    STATE OF ORIGIN  ...           NIN TRCN Workload        Next of Kin  \\\n",
       "355           GOMBE  ...  2.087501e+10  NaN      NaN  MUHAMMAD ABUBAKAR   \n",
       "\n",
       "    Relationship            Address.1      Kin GSM Approved By  Date Approved  \\\n",
       "355       FATHER  KASHERE ROAD, GOMBE  08036140917         NaN            NaN   \n",
       "\n",
       "     Approval Status  \n",
       "355              NaN  \n",
       "\n",
       "[1 rows x 47 columns]"
      ]
     },
     "execution_count": 13,
     "metadata": {},
     "output_type": "execute_result"
    }
   ],
   "source": [
    "data[data['Marital Status'] == 'MALE']"
   ]
  },
  {
   "cell_type": "code",
   "execution_count": 14,
   "metadata": {},
   "outputs": [],
   "source": [
    "data.loc[355, 'Marital Status'] = 'MARRIED'\n",
    "data.loc[data[data['Marital Status'] == 'MARRRIED'].index,\n",
    "         'Marital Status'] = 'MARRIED'"
   ]
  },
  {
   "cell_type": "code",
   "execution_count": 15,
   "metadata": {},
   "outputs": [
    {
     "data": {
      "text/plain": [
       "Marital Status\n",
       "MARRIED    488\n",
       "SINGLE     248\n",
       "WIDOW        1\n",
       "Name: Marital Status, dtype: int64"
      ]
     },
     "execution_count": 15,
     "metadata": {},
     "output_type": "execute_result"
    }
   ],
   "source": [
    "data.groupby('Marital Status')['Marital Status'].count()"
   ]
  },
  {
   "cell_type": "code",
   "execution_count": 16,
   "metadata": {},
   "outputs": [
    {
     "data": {
      "text/plain": [
       "<AxesSubplot:title={'center':'Staff Marital Status'}, ylabel='Marital Status,Marital Status'>"
      ]
     },
     "execution_count": 16,
     "metadata": {},
     "output_type": "execute_result"
    },
    {
     "data": {
      "image/png": "[encoded data removed]",
      "text/plain": [
       "<Figure size 1500x600 with 1 Axes>"
      ]
     },
     "metadata": {},
     "output_type": "display_data"
    }
   ],
   "source": [
    "data.groupby('Marital Status')['Marital Status'].value_counts(\n",
    ").plot.barh(figsize=(15, 6), title='Staff Marital Status')"
   ]
  },
  {
   "cell_type": "markdown",
   "metadata": {},
   "source": [
    "#### 3: Religion\n"
   ]
  },
  {
   "cell_type": "code",
   "execution_count": 17,
   "metadata": {},
   "outputs": [
    {
     "data": {
      "text/plain": [
       "Religion\n",
       "CHRISTIANITY    230\n",
       "CRISTIANITY      55\n",
       "ISLAM           453\n",
       "Name: Religion, dtype: int64"
      ]
     },
     "execution_count": 17,
     "metadata": {},
     "output_type": "execute_result"
    }
   ],
   "source": [
    "data.groupby('Religion')['Religion'].count()"
   ]
  },
  {
   "cell_type": "code",
   "execution_count": 18,
   "metadata": {},
   "outputs": [],
   "source": [
    "data.loc[data[data['Religion'] == 'CRISTIANITY'].index,\n",
    "         'Religion'] = 'CHRISTIANITY'"
   ]
  },
  {
   "cell_type": "code",
   "execution_count": 19,
   "metadata": {},
   "outputs": [
    {
     "data": {
      "text/plain": [
       "Religion\n",
       "CHRISTIANITY    285\n",
       "ISLAM           453\n",
       "Name: Religion, dtype: int64"
      ]
     },
     "execution_count": 19,
     "metadata": {},
     "output_type": "execute_result"
    }
   ],
   "source": [
    "data.groupby('Religion')['Religion'].count()"
   ]
  },
  {
   "cell_type": "code",
   "execution_count": 20,
   "metadata": {},
   "outputs": [
    {
     "data": {
      "text/plain": [
       "<AxesSubplot:title={'center':'Staff Religion'}, ylabel='Religion,Religion'>"
      ]
     },
     "execution_count": 20,
     "metadata": {},
     "output_type": "execute_result"
    },
    {
     "data": {
      "image/png": "[encoded data removed]",
      "text/plain": [
       "<Figure size 1500x600 with 1 Axes>"
      ]
     },
     "metadata": {},
     "output_type": "display_data"
    }
   ],
   "source": [
    "data.groupby('Religion')['Religion'].value_counts().plot.barh(\n",
    "    figsize=(15, 6), title='Staff Religion')"
   ]
  },
  {
   "cell_type": "markdown",
   "metadata": {},
   "source": [
    "#### 4: STATE OF ORIGIN\n"
   ]
  },
  {
   "cell_type": "code",
   "execution_count": 21,
   "metadata": {},
   "outputs": [
    {
     "data": {
      "text/plain": [
       "STATE OF ORIGIN\n",
       "GOMBE     736\n",
       "GOMBE       2\n",
       "Name: STATE OF ORIGIN, dtype: int64"
      ]
     },
     "execution_count": 21,
     "metadata": {},
     "output_type": "execute_result"
    }
   ],
   "source": [
    "data.groupby('STATE OF ORIGIN')['STATE OF ORIGIN'].count()"
   ]
  },
  {
   "cell_type": "code",
   "execution_count": 22,
   "metadata": {},
   "outputs": [
    {
     "data": {
      "text/plain": [
       "array(['GOMBE', 'GOMBE '], dtype=object)"
      ]
     },
     "execution_count": 22,
     "metadata": {},
     "output_type": "execute_result"
    }
   ],
   "source": [
    "data['STATE OF ORIGIN'].unique()"
   ]
  },
  {
   "cell_type": "code",
   "execution_count": 23,
   "metadata": {},
   "outputs": [
    {
     "data": {
      "text/plain": [
       "GOMBE     2\n",
       "Name: STATE OF ORIGIN, dtype: int64"
      ]
     },
     "execution_count": 23,
     "metadata": {},
     "output_type": "execute_result"
    }
   ],
   "source": [
    "data[data['STATE OF ORIGIN'] == 'GOMBE ']['STATE OF ORIGIN'].value_counts()"
   ]
  },
  {
   "cell_type": "code",
   "execution_count": 24,
   "metadata": {},
   "outputs": [
    {
     "data": {
      "text/plain": [
       "STATE OF ORIGIN\n",
       "GOMBE    738\n",
       "Name: STATE OF ORIGIN, dtype: int64"
      ]
     },
     "execution_count": 24,
     "metadata": {},
     "output_type": "execute_result"
    }
   ],
   "source": [
    "data.loc[data[data['STATE OF ORIGIN'] == 'GOMBE '].index,\n",
    "         'STATE OF ORIGIN'] = 'GOMBE'\n",
    "data.groupby('STATE OF ORIGIN')['STATE OF ORIGIN'].count()"
   ]
  },
  {
   "cell_type": "code",
   "execution_count": 25,
   "metadata": {},
   "outputs": [],
   "source": [
    "def update_values(data: pd.DataFrame, column: str, items: list):\n",
    "    for item in items:\n",
    "        data.loc[data[data[column] == item.get(\n",
    "            'old')].index, column] = item.get('new')"
   ]
  },
  {
   "cell_type": "markdown",
   "metadata": {},
   "source": [
    "#### 5: LGA\n"
   ]
  },
  {
   "cell_type": "code",
   "execution_count": 26,
   "metadata": {},
   "outputs": [
    {
     "data": {
      "text/plain": [
       "array(['Y/DEBA', 'AKKO', 'DUKKU', 'BILLIRI', 'NAFADA', 'BALANGA',\n",
       "       'SHONGOM', 'KALTUNGO', 'GOMBE', 'YAMALIU DEBA', 'KWAMI',\n",
       "       'FUNAKAYE', 'YAMALTU DEBA', 'YAMALTU/DEBA', 'BILIRRI', 'SHNGOM',\n",
       "       'SHONGON ', 'BALANGA ', 'NAFADA ', 'KWAMI ', 'Y/DEBA ', 'KWMAI'],\n",
       "      dtype=object)"
      ]
     },
     "execution_count": 26,
     "metadata": {},
     "output_type": "execute_result"
    }
   ],
   "source": [
    "data['LGA'].unique()"
   ]
  },
  {
   "cell_type": "code",
   "execution_count": 27,
   "metadata": {},
   "outputs": [
    {
     "data": {
      "text/plain": [
       "LGA\n",
       "AKKO             62\n",
       "BALANGA          74\n",
       "BALANGA           8\n",
       "BILIRRI          19\n",
       "BILLIRI          59\n",
       "DUKKU            62\n",
       "FUNAKAYE         38\n",
       "GOMBE           144\n",
       "KALTUNGO         72\n",
       "KWAMI            55\n",
       "KWAMI             1\n",
       "KWMAI             1\n",
       "NAFADA           48\n",
       "NAFADA            2\n",
       "SHNGOM            1\n",
       "SHONGOM          29\n",
       "SHONGON           4\n",
       "Y/DEBA           51\n",
       "Y/DEBA            1\n",
       "YAMALIU DEBA      4\n",
       "YAMALTU DEBA      2\n",
       "YAMALTU/DEBA      1\n",
       "Name: LGA, dtype: int64"
      ]
     },
     "execution_count": 27,
     "metadata": {},
     "output_type": "execute_result"
    }
   ],
   "source": [
    "data.groupby('LGA')['LGA'].count()"
   ]
  },
  {
   "cell_type": "code",
   "execution_count": 28,
   "metadata": {},
   "outputs": [
    {
     "data": {
      "text/plain": [
       "LGA\n",
       "AKKO             62\n",
       "BALANGA          82\n",
       "BILLIRI          78\n",
       "DUKKU            62\n",
       "FUNAKAYE         38\n",
       "GOMBE           144\n",
       "KALTUNGO         72\n",
       "KWAMI            56\n",
       "KWAMI             1\n",
       "NAFADA           50\n",
       "SHONGOM          34\n",
       "YAMALTU DEBA      2\n",
       "YAMALTU/DEBA     57\n",
       "Name: LGA, dtype: int64"
      ]
     },
     "execution_count": 28,
     "metadata": {},
     "output_type": "execute_result"
    }
   ],
   "source": [
    "items = [\n",
    "    {\"old\": \"YAMALIU DEBA\", \"new\": \"YAMALTU/DEBA\"},\n",
    "    {\"old\": \"YAMALTU/DEBA\", \"new\": \"YAMALTU/DEBA\"},\n",
    "    {\"old\": \"YAMALIU/DEBA\", \"new\": \"YAMALTU/DEBA\"},\n",
    "    {\"old\": \"Y/DEBA \", \"new\": \"YAMALTU/DEBA\"},\n",
    "    {\"old\": \"Y/DEBA\", \"new\": \"YAMALTU/DEBA\"},\n",
    "    {\"old\": \"KWMAI\", \"new\": \"KWAMI\"},\n",
    "    {\"old\": \"SHONGON \", \"new\": \"SHONGOM\"},\n",
    "    {\"old\": \"SHNGOM\", \"new\": \"SHONGOM\"},\n",
    "    {\"old\": \"NAFADA \", \"new\": \"NAFADA\"},\n",
    "    {\"old\": \"BILIRRI\", \"new\": \"BILLIRI\"},\n",
    "    {\"old\": \"BALANGA \", \"new\": \"BALANGA\"},\n",
    "]\n",
    "update_values(data, 'LGA', items)\n",
    "data.groupby('LGA')['LGA'].count()"
   ]
  },
  {
   "cell_type": "code",
   "execution_count": 29,
   "metadata": {},
   "outputs": [
    {
     "data": {
      "text/plain": [
       "<AxesSubplot:ylabel='LGA,LGA'>"
      ]
     },
     "execution_count": 29,
     "metadata": {},
     "output_type": "execute_result"
    },
    {
     "data": {
      "image/png": "[encoded data removed]",
      "text/plain": [
       "<Figure size 1500x600 with 1 Axes>"
      ]
     },
     "metadata": {},
     "output_type": "display_data"
    }
   ],
   "source": [
    "data.groupby('LGA')['LGA'].value_counts().plot.barh(figsize=(15, 6))"
   ]
  },
  {
   "cell_type": "code",
   "execution_count": 30,
   "metadata": {},
   "outputs": [],
   "source": [
    "items = [\n",
    "    {\"old\": \"\", \"new\": \"\"},\n",
    "]"
   ]
  },
  {
   "cell_type": "markdown",
   "metadata": {},
   "source": [
    "#### 6: Station Category\n"
   ]
  },
  {
   "cell_type": "code",
   "execution_count": 33,
   "metadata": {},
   "outputs": [
    {
     "data": {
      "text/plain": [
       "(array(['GCDSS NEW LIJI', 'GDSS KUMO', 'DUKKU MEGA SCHOOL', 'GDSS AKKO',\n",
       "        'GDSS DUKKU WEST', 'GDSS WURO BIRIJI', 'GDSS AHMADU GOMBE',\n",
       "        'GDSS BOH', 'WURO BIRIJI ALONG HOUSE OF ASSEMBLY',\n",
       "        'GCDSS KALTUNGO', 'GDSS IBINOLA', 'GCDSS BAMBAM, BALANGA L.G.A',\n",
       "        'GDSS JALO WAZIRI', 'GCSS AWAK', 'GSTC BARUNDE', 'GDSS BAMBAM',\n",
       "        'GCDSS GABUKKA', 'GSTC KWAMI', 'GSTC DEBA', 'GDSS (P) GOMBE',\n",
       "        'GDSS SHONGO IDRIS', 'GCDB BOJUDE', 'GCDSS GOMBE', 'GDSS GANDU',\n",
       "        'GDSS BOLARI EAST GOMBE', 'GDSS MEGA', 'GDSS BILLIRI',\n",
       "        'DUKKU L.G.A', 'GSSS GOMBE MEGA', 'GSSS BILLIRI', 'GAC II',\n",
       "        'GDSS BAGE', 'GDSS HERWAGANA', 'GDSS KURBA', 'GDSS KALTUNGO',\n",
       "        'GDSS GOMBE ABBA', 'GCDSS YABRA', 'GDSSS BILLIRI',\n",
       "        'GDSS BOGO GOMBE', 'GCSS HASSAN CENTRAL GOMBE', 'GDSS LAPAN',\n",
       "        'HERWA GANA GDSS', 'GDSS LADANGOR',\n",
       "        'BABAN FULANI GDSS DANBAN FULANI', 'GDSS ORJI ESTATE', 'GGC DOMA',\n",
       "        'GDSS KULANI', 'GDSS PANTAMI', 'GCDSS KUNDULUM', 'GCDSS DEBA',\n",
       "        'GSTC KUMO', 'GSTC TANGLAND', 'GCSS LALAIPIDO',\n",
       "        'GCDSS DUKKU CENTRAL', 'GSS MEGA', 'GOMBE/ORJI ESTATE',\n",
       "        'GCTC DEBA', 'GOMBE ', 'GDSS SARKI YAKI SHONGO', 'GSSS GOMBE  ',\n",
       "        'GCSS DADIN KOWA MEGA', 'EMIS SUBEB GOMBE', 'GSTC GOMBE', 'GAC I ',\n",
       "        'GCDSS TEBRA', 'GCDSS ', 'GCDSS BOJUDE', 'GDSS ASHAKA GARI',\n",
       "        'GC NAFADA', 'GCDSS JALINGO ASHAKA', 'GAC I', 'GCDSS BAJOGA',\n",
       "        'MEGA SECONDARY SCHOOL', 'MEGA SECONDARY SCHOOL DUKKU',\n",
       "        'GDSS SHANGO SARKIN YAKI', 'GDSS SHONGO IDRISSA', 'GOMBE',\n",
       "        'GSS DUKKU MEGA', 'MOE GOMBE STATE LIBRARY BOARD',\n",
       "        'GCDSS SHEHU ABUBAKAR', 'SEC GOMBE', 'GGSSS KURI',\n",
       "        'GDSS AMADU GOMBE', 'GDSS KUSHI KUGERA', 'GDSS AKKOYEL',\n",
       "        'IQMIC GOMBE', 'TANGLANG BILLIRI', 'GDSS GOMBE (PICOT)',\n",
       "        'JIBWIS BOLARI GOMBE', 'GDSS SCIENCE II', 'JIBWIS BARUNDE',\n",
       "        'GDSS TUMU', 'GDSS AKKOYEL KUMO', 'GDSS GUJUBA', 'GDSS CHILLO',\n",
       "        'GDSS MALALA', 'MALAM SIDI', 'GDSS SHEHU ABUBAKAR', 'GDSS BIRIJI',\n",
       "        'KASHERE', 'GDCSS B/B BARDE KWAMI', 'CERC GOMBE', 'GDSS LAWAMTI',\n",
       "        'GDSS BAJOGA', 'GDSS TALLASE', 'GDSS CHAM', 'GDSS TODI',\n",
       "        'GDSS S/S YAKI', 'GAC GOMBE', 'GCDSS B/B BARDE', 'GDSS BANGUNJI',\n",
       "        'GDSS PUTOKI', 'GCTC TULA', 'GDSSS BAJOGA',\n",
       "        'GDSS SHONGO SARKIN YAKI', 'MOE DPRS', 'GDSS BAJOGA SOUTH',\n",
       "        'GGSTC AMADA', 'GCDSS HASHIDU', 'GDSS S/IDRISA', 'GDSS HASHIDU',\n",
       "        'GCDSS FILIYA', 'GDSS FILIYA', 'GCDSS AMADA',\n",
       "        'GDSS LAFIA W/LUNGUDA', 'GGSS KURI', 'BOJUDE (KWAMI)', 'GDSS DONG',\n",
       "        'GDSS NEW LIJI', 'GCSS HINNA', 'GDSS LADONGOR', 'GGSSS CHAM',\n",
       "        'GGSSS KUMO', 'GDSS GWANDUM', 'GSSS KUMO', 'GDSS POPIMO',\n",
       "        'GDSS BIRIN FULANI', 'GCSS PINDIGA', 'GCDSS KOMFULATA',\n",
       "        'GDSS PILOT', 'GCDSS BAULE GARI', 'JIBWIS HERWAGANA', 'GSTC TULA',\n",
       "        'GDSSS NASARAWO', 'GDSS KUNDULUN', 'GCJSS GOMBE', 'GDSSS II',\n",
       "        'GSSS KALTUNGO MEGA', 'GDSS GANDU GOMBE', 'GDSS REME',\n",
       "        'GDSSS II GOMBE', 'GDSS SHABEWA', 'GCSS TALASSE',\n",
       "        'GCDSS HASSAN CENTRAL', 'GCDSS GADAM',\n",
       "        'DPARTMENT OF PLANNING RESEACRH AND STATISTICS', 'GCDSS KWAMI',\n",
       "        'J/WAZIRI', 'GCDSS CHAM', 'GDSS SHONGO IDRISA', 'GDSS KASHERE',\n",
       "        'GCDSS BIRIN BOLAWA', 'GCDSS HASSAN CENTRAL GOMBE',\n",
       "        'GDSS SHEHU ABUBAKAR GOMBE', 'JIBWIS BOLARI',\n",
       "        'SPECIAL EDUCATION CENTER GOMBE', 'GDSS NASARAWO',\n",
       "        'MEGA SCHOOL DUKKU', nan, 'GDSS DUKUL', 'GDSS HERWAGANA,, GOMBE',\n",
       "        'GDSSS GOMBE', 'GDSS SHONGO IDIRISA', 'GCDSS J/ ASHAKA',\n",
       "        'GCDSS J/ASHAKA', 'GDSS PILOT, GOMBE', 'GDSS HERWAGANA, GOMBE',\n",
       "        'GDSS KALARING', 'GCDSS JALINGO', 'GDSS KUNDULUM', 'GCDSS LIJI',\n",
       "        'GCDSS KUNDULUN', 'GSS KASHERE', 'GDSS BULA',\n",
       "        'GDSS BARWO NASARAWO', 'GCDSS NAFADA', 'GCDSS H/CENTRAL',\n",
       "        'GSTC AMADA', 'GDSS ORJI ', 'GAC 1', 'GDSS S/ABUBAKAR',\n",
       "        'GCDSS WAWA', 'GCDSS TABRA', 'GCDSS JALINGO, ASHAKA',\n",
       "        'GDSS DUKKU MODEL', 'GDCSS H/CENTRAL', 'SPECIAL EDUCATION CENTRE',\n",
       "        'GDSS PILOT GOMBE', 'GSSS GOMBE(MEGA)', 'GDSS BOLARI EAST',\n",
       "        'GDSS KANAWA', 'GOVERNMENT GIRLS SECONDARY SCHOOL,KURI',\n",
       "        'GOVERNMENT DAY SECONDARY SCHOOL WURO BIRIJI',\n",
       "        'GOVT DAY SECONDARY SCHOOL PILOT,GOMBE', 'CDSS NAFADA',\n",
       "        'GOVT DAY SECONDARY SCHOOL KASHERE',\n",
       "        'GOVT SECONDARY SCHOOL NEGA,DUKKU', 'GSSS KALI.MEGA',\n",
       "        'G.S.T.C TANGLAN', 'GDSS NAFADA BIRIN BOLEWA',\n",
       "        'G.D.S.S.S BUBA,SHONGO,GOMBE', 'SCIENCE 1 G.S.S GOMBE MEJA',\n",
       "        'GDSS GABUKKA', 'GSS DADIN KOWA MEGA Y/DEBA', 'GDSS (PILOT) GOMBE',\n",
       "        'GDSSS 11 GOMBE', 'GSSS KALTUNGO,MEGA', 'GDSS BOGO', 'GAC1',\n",
       "        'GDSS BIRN FULANI', 'GOMBE STATE UNIVERSITY GDSS HERWAGANA',\n",
       "        'GDSS JALO WAZIRI GOMBE', 'GDSS KALSHINGI', 'GGSS KURI DEBA ',\n",
       "        'GDSS TUDU', 'GDSS BIRIN BOLAWA', 'GSS MEGA DUKKU',\n",
       "        'GDSS IBINOLA BILLIRI', 'GDSS ZAMBUK', 'GDSS GOMBE', 'GGSS CHAM',\n",
       "        'GSSS GOMBE', 'GSSS1 GOMBE', 'GSS LADONGORY', ' GDSS PILOT GOMBE',\n",
       "        'GDSS O/ESTATE AKKO', 'SHONGO IDIRISA GOVERNMENT DAY SEC.SCHOOL',\n",
       "        'GCDSS KALARING KALTUNGO', 'GCDSS YIRI', 'GDSS 11 GOMBE',\n",
       "        'GDSS H/GANA', 'GDSS A/GOMBE', 'GCDSS KWADON Y/DEBA', 'GDSS TAL',\n",
       "        'GDSSS  GOMBE', 'GGSS KALTUNGO', 'GDSS PURMAI', 'GDSS YIRI TULA',\n",
       "        'GDSS TONGO', 'GDSS SHALA', 'GCDSS,TARBA', 'GDSS TULA', 'GDSSS11',\n",
       "        'GDSS CHILO', 'GDSS KUBRA',\n",
       "        'SPECIAL EDUCATION CENTER LONDON MAI DORAWA QUARTERS GOMBE',\n",
       "        'DSSH &E-CA', 'GGSS KUMO',\n",
       "        'DEPARTMENT OF PLANNING ,RESEARCH & STATISTICS', 'GDSSS KASHERE',\n",
       "        'GCDSS KWADON  ', 'WURO BIRIJI', 'GOVERNMENT ARABIC COLLEGE 1',\n",
       "        'GGSS AMADA', 'GDSS TUMU AKKO', 'GAC11', 'GDSS WUKO BIRIJI',\n",
       "        'GCDSS BAMBAM ', 'GSS DUKKU MEGA ', 'GAC II GOMBE',\n",
       "        'GAC GOMBE, GOMBE STATE', 'GDSS BAGUNJI ',\n",
       "        'GCDSS DADIN KOWA MEGA ', 'GDSS AYABA ', 'GDSS BOGO, AKKO ',\n",
       "        'GCSS DADIN KOWA ', 'GDSS AKKO ', 'GCDSS H/CENTAL',\n",
       "        'GCDSS SHEHU ABUBAKAR GOMBE', 'GAC I GOMBE', 'GDSS A MUDO GOMBE ',\n",
       "        'GDSS AMDU GOMBE ', 'GDSS TURE MAI', 'S/IDIRASA TUMFURE ',\n",
       "        'GCDSS TABRA ', 'GDSS SHEHU ABUBAKR ', 'GDSSS GOMBE ',\n",
       "        'GSTC BARUNDE ', 'GSTC TULA ', 'GSSS CHAM BALANGA ', 'GDSSS CHAM ',\n",
       "        'GDSS GABUKKA ', 'GDSS WURO BIRIJI ', 'GCDSS NEW LIJI ',\n",
       "        'GDSS B/FULANI NAFADA ', 'GDSS ORJI ESTATE ',\n",
       "        'MEGA SECONDRY SCHOOL DUKKU ', 'B/BOLAWA SS', 'GDSS GOMBE ',\n",
       "        'GDSS BAGE ', 'KWAMI', 'GGC DOMA MEGA', 'GSSS GOMBE ',\n",
       "        'LABRARY BOARD ', 'GDSS NEW LIJI ', 'GDSS AI GOMBE ',\n",
       "        'GDSS LAMUGA', 'JIBWIS HERWAGANA ', 'GDSS GELLENLU',\n",
       "        'GDSS LAWANTI AKKO', 'GDSS KALARING ', 'GDSS GELLENGU',\n",
       "        'SPECIAL EDUCATION CENTER GOMBE ',\n",
       "        'COMMUNITY EDUCATION RESOURCE CENTER GOMBE', 'GDSS LAMUGA ',\n",
       "        'MOE HEADQUATER LIBRARY BOARD', 'GDSS KWAMI', 'GCDSS BAULE TULA',\n",
       "        'GCTC KWAMI', 'GCSSS GABUKKA GOMBE ', 'GDSS AMADU GOMBE ',\n",
       "        'GDSS DOHO', 'GDSS GANDU GOMBE ', 'GGSDS KALTUNGO', 'GSTC KWAMI ',\n",
       "        'GSS MALAM SIDI ', 'GDSS KWADOM', 'GSTC DEBA ', 'GCDSS DEBA ',\n",
       "        'GDSSS  PURMAI', 'GDSS NASARAWO GOMBE ', 'GSTC GOMBE ',\n",
       "        'GDSS PILOT GOMBE ', 'GCDSS GADAM ', 'GDSS BAJOGA ',\n",
       "        'GDSS SHONGO IDRISA ', 'GTC IDI GOMBE '], dtype=object),\n",
       " 337)"
      ]
     },
     "execution_count": 33,
     "metadata": {},
     "output_type": "execute_result"
    }
   ],
   "source": [
    "data['Station'].unique(), len(data['Station'].unique())"
   ]
  },
  {
   "cell_type": "code",
   "execution_count": 31,
   "metadata": {},
   "outputs": [
    {
     "data": {
      "text/html": [
       "<div>\n",
       "<style scoped>\n",
       "    .dataframe tbody tr th:only-of-type {\n",
       "        vertical-align: middle;\n",
       "    }\n",
       "\n",
       "    .dataframe tbody tr th {\n",
       "        vertical-align: top;\n",
       "    }\n",
       "\n",
       "    .dataframe thead th {\n",
       "        text-align: right;\n",
       "    }\n",
       "</style>\n",
       "<table border=\"1\" class=\"dataframe\">\n",
       "  <thead>\n",
       "    <tr style=\"text-align: right;\">\n",
       "      <th></th>\n",
       "      <th>SN</th>\n",
       "      <th>PSN</th>\n",
       "      <th>Full Name</th>\n",
       "      <th>Gender</th>\n",
       "      <th>Marital Status</th>\n",
       "      <th>Religion</th>\n",
       "      <th>DOB</th>\n",
       "      <th>GSM</th>\n",
       "      <th>Email</th>\n",
       "      <th>STATE OF ORIGIN</th>\n",
       "      <th>...</th>\n",
       "      <th>NIN</th>\n",
       "      <th>TRCN</th>\n",
       "      <th>Workload</th>\n",
       "      <th>Next of Kin</th>\n",
       "      <th>Relationship</th>\n",
       "      <th>Address.1</th>\n",
       "      <th>Kin GSM</th>\n",
       "      <th>Approved By</th>\n",
       "      <th>Date Approved</th>\n",
       "      <th>Approval Status</th>\n",
       "    </tr>\n",
       "  </thead>\n",
       "  <tbody>\n",
       "    <tr>\n",
       "      <th>0</th>\n",
       "      <td>1</td>\n",
       "      <td>NaN</td>\n",
       "      <td>IBRAHIM UMAR S. FADA</td>\n",
       "      <td>MALE</td>\n",
       "      <td>MARRIED</td>\n",
       "      <td>ISLAM</td>\n",
       "      <td>16/10/1986</td>\n",
       "      <td>07039426873</td>\n",
       "      <td>sfadadeba12@gmail.com</td>\n",
       "      <td>GOMBE</td>\n",
       "      <td>...</td>\n",
       "      <td>2.138724e+10</td>\n",
       "      <td>GB/P/02686</td>\n",
       "      <td>NaN</td>\n",
       "      <td>YAKUBU IBRAHIM</td>\n",
       "      <td>BROTHER</td>\n",
       "      <td>FAGE DEBA</td>\n",
       "      <td>07064359214</td>\n",
       "      <td>NaN</td>\n",
       "      <td>NaN</td>\n",
       "      <td>NaN</td>\n",
       "    </tr>\n",
       "    <tr>\n",
       "      <th>1</th>\n",
       "      <td>2</td>\n",
       "      <td>NaN</td>\n",
       "      <td>ABUBAKAR SALIHU MODIBBO</td>\n",
       "      <td>MALE</td>\n",
       "      <td>SINGLE</td>\n",
       "      <td>ISLAM</td>\n",
       "      <td>06/06/1994</td>\n",
       "      <td>09037849647</td>\n",
       "      <td>salihumodibbo@gmail.com</td>\n",
       "      <td>GOMBE</td>\n",
       "      <td>...</td>\n",
       "      <td>8.569531e+10</td>\n",
       "      <td>NaN</td>\n",
       "      <td>NaN</td>\n",
       "      <td>IBRAHIM A. MODIBBO</td>\n",
       "      <td>BROTHER</td>\n",
       "      <td>BYPASS GOMBE</td>\n",
       "      <td>08022310261</td>\n",
       "      <td>NaN</td>\n",
       "      <td>NaN</td>\n",
       "      <td>NaN</td>\n",
       "    </tr>\n",
       "    <tr>\n",
       "      <th>2</th>\n",
       "      <td>3</td>\n",
       "      <td>NaN</td>\n",
       "      <td>IBRAHIM UMAR MURTALA</td>\n",
       "      <td>MALE</td>\n",
       "      <td>MARRIED</td>\n",
       "      <td>ISLAM</td>\n",
       "      <td>10/03/1988</td>\n",
       "      <td>07038395594</td>\n",
       "      <td>NaN</td>\n",
       "      <td>GOMBE</td>\n",
       "      <td>...</td>\n",
       "      <td>7.671126e+10</td>\n",
       "      <td>NaN</td>\n",
       "      <td>NaN</td>\n",
       "      <td>MUHAMMAD MUSTAPHA MURTALA</td>\n",
       "      <td>BROTHER</td>\n",
       "      <td>CHIROMA QUARTERS DUKKU</td>\n",
       "      <td>08036180482</td>\n",
       "      <td>NaN</td>\n",
       "      <td>NaN</td>\n",
       "      <td>NaN</td>\n",
       "    </tr>\n",
       "    <tr>\n",
       "      <th>3</th>\n",
       "      <td>4</td>\n",
       "      <td>NaN</td>\n",
       "      <td>JEHOIDA KELMI LAZARUS</td>\n",
       "      <td>MALE</td>\n",
       "      <td>SINGLE</td>\n",
       "      <td>CHRISTIANITY</td>\n",
       "      <td>30/12/1998</td>\n",
       "      <td>08133776633</td>\n",
       "      <td>jehoikelmi@gmail.com</td>\n",
       "      <td>GOMBE</td>\n",
       "      <td>...</td>\n",
       "      <td>3.015013e+10</td>\n",
       "      <td>NaN</td>\n",
       "      <td>NaN</td>\n",
       "      <td>ALEX KELMI LAZARUS</td>\n",
       "      <td>BROTHER</td>\n",
       "      <td>H52 INVESTIMENT QTS TUMFURE GOMBE</td>\n",
       "      <td>08160959861</td>\n",
       "      <td>NaN</td>\n",
       "      <td>NaN</td>\n",
       "      <td>NaN</td>\n",
       "    </tr>\n",
       "    <tr>\n",
       "      <th>4</th>\n",
       "      <td>5</td>\n",
       "      <td>NaN</td>\n",
       "      <td>NAJIB USMAN</td>\n",
       "      <td>MALE</td>\n",
       "      <td>SINGLE</td>\n",
       "      <td>ISLAM</td>\n",
       "      <td>26/05/1991</td>\n",
       "      <td>08032835929</td>\n",
       "      <td>usmannajib20@gmail.com</td>\n",
       "      <td>GOMBE</td>\n",
       "      <td>...</td>\n",
       "      <td>5.845600e+10</td>\n",
       "      <td>NaN</td>\n",
       "      <td>NaN</td>\n",
       "      <td>USMAN</td>\n",
       "      <td>TEACHER</td>\n",
       "      <td>GONA QUARTERS DUKKU</td>\n",
       "      <td>08022608991</td>\n",
       "      <td>NaN</td>\n",
       "      <td>NaN</td>\n",
       "      <td>NaN</td>\n",
       "    </tr>\n",
       "    <tr>\n",
       "      <th>...</th>\n",
       "      <td>...</td>\n",
       "      <td>...</td>\n",
       "      <td>...</td>\n",
       "      <td>...</td>\n",
       "      <td>...</td>\n",
       "      <td>...</td>\n",
       "      <td>...</td>\n",
       "      <td>...</td>\n",
       "      <td>...</td>\n",
       "      <td>...</td>\n",
       "      <td>...</td>\n",
       "      <td>...</td>\n",
       "      <td>...</td>\n",
       "      <td>...</td>\n",
       "      <td>...</td>\n",
       "      <td>...</td>\n",
       "      <td>...</td>\n",
       "      <td>...</td>\n",
       "      <td>...</td>\n",
       "      <td>...</td>\n",
       "      <td>...</td>\n",
       "    </tr>\n",
       "    <tr>\n",
       "      <th>733</th>\n",
       "      <td>734</td>\n",
       "      <td>NaN</td>\n",
       "      <td>ALHAJI BABA ADAMU</td>\n",
       "      <td>MALE</td>\n",
       "      <td>SINGLE</td>\n",
       "      <td>ISLAM</td>\n",
       "      <td>1994-01-01 00:00:00</td>\n",
       "      <td>08100165860</td>\n",
       "      <td>ALHAJIBABAADAMU44@GMAIL.COM</td>\n",
       "      <td>GOMBE</td>\n",
       "      <td>...</td>\n",
       "      <td>9.189773e+10</td>\n",
       "      <td>NaN</td>\n",
       "      <td>NaN</td>\n",
       "      <td>MUSA ADMU</td>\n",
       "      <td>UNCLE</td>\n",
       "      <td>BAMALUM QUARTERS</td>\n",
       "      <td>08036764861</td>\n",
       "      <td>NaN</td>\n",
       "      <td>NaN</td>\n",
       "      <td>NaN</td>\n",
       "    </tr>\n",
       "    <tr>\n",
       "      <th>734</th>\n",
       "      <td>735</td>\n",
       "      <td>NaN</td>\n",
       "      <td>HARUNA MALAKU ADAMU</td>\n",
       "      <td>FEMALE</td>\n",
       "      <td>MARRIED</td>\n",
       "      <td>CHRISTIANITY</td>\n",
       "      <td>20/12/1992</td>\n",
       "      <td>08032832636</td>\n",
       "      <td>MALAKUHARUNA@GMAIL.COM</td>\n",
       "      <td>GOMBE</td>\n",
       "      <td>...</td>\n",
       "      <td>4.066512e+10</td>\n",
       "      <td>NaN</td>\n",
       "      <td>NaN</td>\n",
       "      <td>PHILIP HARUNA</td>\n",
       "      <td>SON</td>\n",
       "      <td>GRA BEHIND TREASURY HOUSE GOMBE</td>\n",
       "      <td>08032832636</td>\n",
       "      <td>NaN</td>\n",
       "      <td>NaN</td>\n",
       "      <td>NaN</td>\n",
       "    </tr>\n",
       "    <tr>\n",
       "      <th>735</th>\n",
       "      <td>736</td>\n",
       "      <td>NaN</td>\n",
       "      <td>ALIYU IBRAHIM KALLAH</td>\n",
       "      <td>MALE</td>\n",
       "      <td>MARRIED</td>\n",
       "      <td>ISLAM</td>\n",
       "      <td>15/5/1983</td>\n",
       "      <td>08035215073</td>\n",
       "      <td>IBRAHIMKALLAH7@GMAIL.COM</td>\n",
       "      <td>GOMBE</td>\n",
       "      <td>...</td>\n",
       "      <td>6.599813e+10</td>\n",
       "      <td>NaN</td>\n",
       "      <td>NaN</td>\n",
       "      <td>SALISU ALIYU KALLAH</td>\n",
       "      <td>BROTHER</td>\n",
       "      <td>ABACHA QUARTER</td>\n",
       "      <td>08056745629</td>\n",
       "      <td>NaN</td>\n",
       "      <td>NaN</td>\n",
       "      <td>NaN</td>\n",
       "    </tr>\n",
       "    <tr>\n",
       "      <th>736</th>\n",
       "      <td>737</td>\n",
       "      <td>NaN</td>\n",
       "      <td>UMAR HADIZA ADAMU</td>\n",
       "      <td>FEMALE</td>\n",
       "      <td>SINGLE</td>\n",
       "      <td>ISLAM</td>\n",
       "      <td>16/8/1987</td>\n",
       "      <td>08036592449</td>\n",
       "      <td>HADIZAADAMUBC@GMAIL.COM</td>\n",
       "      <td>GOMBE</td>\n",
       "      <td>...</td>\n",
       "      <td>4.638042e+09</td>\n",
       "      <td>NaN</td>\n",
       "      <td>NaN</td>\n",
       "      <td>AUWALU ADAMU UMAR</td>\n",
       "      <td>BROTHER</td>\n",
       "      <td>ABUJA QUARTERS</td>\n",
       "      <td>07068258484</td>\n",
       "      <td>NaN</td>\n",
       "      <td>NaN</td>\n",
       "      <td>NaN</td>\n",
       "    </tr>\n",
       "    <tr>\n",
       "      <th>737</th>\n",
       "      <td>738</td>\n",
       "      <td>NaN</td>\n",
       "      <td>HASSAN ZUWAIRA</td>\n",
       "      <td>FEMALE</td>\n",
       "      <td>MARRIED</td>\n",
       "      <td>ISLAM</td>\n",
       "      <td>110/2/1991</td>\n",
       "      <td>08032363282</td>\n",
       "      <td>HASSANZUWAIRA19@GMAIL.COM</td>\n",
       "      <td>GOMBE</td>\n",
       "      <td>...</td>\n",
       "      <td>7.984757e+09</td>\n",
       "      <td>NaN</td>\n",
       "      <td>NaN</td>\n",
       "      <td>KHALID SALEH WAJA</td>\n",
       "      <td>SON</td>\n",
       "      <td>DAWKAI QUARTERS</td>\n",
       "      <td>07030833093</td>\n",
       "      <td>NaN</td>\n",
       "      <td>NaN</td>\n",
       "      <td>NaN</td>\n",
       "    </tr>\n",
       "  </tbody>\n",
       "</table>\n",
       "<p>738 rows × 47 columns</p>\n",
       "</div>"
      ],
      "text/plain": [
       "      SN  PSN                Full Name  Gender Marital Status      Religion  \\\n",
       "0      1  NaN     IBRAHIM UMAR S. FADA    MALE        MARRIED         ISLAM   \n",
       "1      2  NaN  ABUBAKAR SALIHU MODIBBO    MALE         SINGLE         ISLAM   \n",
       "2      3  NaN     IBRAHIM UMAR MURTALA    MALE        MARRIED         ISLAM   \n",
       "3      4  NaN    JEHOIDA KELMI LAZARUS    MALE         SINGLE  CHRISTIANITY   \n",
       "4      5  NaN              NAJIB USMAN    MALE         SINGLE         ISLAM   \n",
       "..   ...  ...                      ...     ...            ...           ...   \n",
       "733  734  NaN        ALHAJI BABA ADAMU    MALE         SINGLE         ISLAM   \n",
       "734  735  NaN     HARUNA MALAKU ADAMU   FEMALE        MARRIED  CHRISTIANITY   \n",
       "735  736  NaN     ALIYU IBRAHIM KALLAH    MALE        MARRIED         ISLAM   \n",
       "736  737  NaN        UMAR HADIZA ADAMU  FEMALE         SINGLE         ISLAM   \n",
       "737  738  NaN          HASSAN ZUWAIRA   FEMALE        MARRIED         ISLAM   \n",
       "\n",
       "                     DOB          GSM                         Email  \\\n",
       "0             16/10/1986  07039426873         sfadadeba12@gmail.com   \n",
       "1             06/06/1994  09037849647       salihumodibbo@gmail.com   \n",
       "2             10/03/1988  07038395594                           NaN   \n",
       "3             30/12/1998  08133776633          jehoikelmi@gmail.com   \n",
       "4             26/05/1991  08032835929        usmannajib20@gmail.com   \n",
       "..                   ...          ...                           ...   \n",
       "733  1994-01-01 00:00:00  08100165860  ALHAJIBABAADAMU44@GMAIL.COM    \n",
       "734           20/12/1992  08032832636        MALAKUHARUNA@GMAIL.COM   \n",
       "735            15/5/1983  08035215073     IBRAHIMKALLAH7@GMAIL.COM    \n",
       "736            16/8/1987  08036592449       HADIZAADAMUBC@GMAIL.COM   \n",
       "737           110/2/1991  08032363282    HASSANZUWAIRA19@GMAIL.COM    \n",
       "\n",
       "    STATE OF ORIGIN  ...           NIN        TRCN Workload  \\\n",
       "0             GOMBE  ...  2.138724e+10  GB/P/02686      NaN   \n",
       "1             GOMBE  ...  8.569531e+10         NaN      NaN   \n",
       "2             GOMBE  ...  7.671126e+10         NaN      NaN   \n",
       "3             GOMBE  ...  3.015013e+10         NaN      NaN   \n",
       "4             GOMBE  ...  5.845600e+10         NaN      NaN   \n",
       "..              ...  ...           ...         ...      ...   \n",
       "733           GOMBE  ...  9.189773e+10         NaN      NaN   \n",
       "734           GOMBE  ...  4.066512e+10         NaN      NaN   \n",
       "735           GOMBE  ...  6.599813e+10         NaN      NaN   \n",
       "736           GOMBE  ...  4.638042e+09         NaN      NaN   \n",
       "737           GOMBE  ...  7.984757e+09         NaN      NaN   \n",
       "\n",
       "                   Next of Kin Relationship  \\\n",
       "0               YAKUBU IBRAHIM      BROTHER   \n",
       "1           IBRAHIM A. MODIBBO      BROTHER   \n",
       "2    MUHAMMAD MUSTAPHA MURTALA      BROTHER   \n",
       "3           ALEX KELMI LAZARUS      BROTHER   \n",
       "4                        USMAN      TEACHER   \n",
       "..                         ...          ...   \n",
       "733                 MUSA ADMU         UNCLE   \n",
       "734             PHILIP HARUNA          SON    \n",
       "735       SALISU ALIYU KALLAH      BROTHER    \n",
       "736         AUWALU ADAMU UMAR      BROTHER    \n",
       "737         KHALID SALEH WAJA          SON    \n",
       "\n",
       "                             Address.1      Kin GSM Approved By  \\\n",
       "0                            FAGE DEBA  07064359214         NaN   \n",
       "1                         BYPASS GOMBE  08022310261         NaN   \n",
       "2               CHIROMA QUARTERS DUKKU  08036180482         NaN   \n",
       "3    H52 INVESTIMENT QTS TUMFURE GOMBE  08160959861         NaN   \n",
       "4                  GONA QUARTERS DUKKU  08022608991         NaN   \n",
       "..                                 ...          ...         ...   \n",
       "733                  BAMALUM QUARTERS   08036764861         NaN   \n",
       "734   GRA BEHIND TREASURY HOUSE GOMBE   08032832636         NaN   \n",
       "735                    ABACHA QUARTER   08056745629         NaN   \n",
       "736                    ABUJA QUARTERS   07068258484         NaN   \n",
       "737                   DAWKAI QUARTERS   07030833093         NaN   \n",
       "\n",
       "     Date Approved  Approval Status  \n",
       "0              NaN              NaN  \n",
       "1              NaN              NaN  \n",
       "2              NaN              NaN  \n",
       "3              NaN              NaN  \n",
       "4              NaN              NaN  \n",
       "..             ...              ...  \n",
       "733            NaN              NaN  \n",
       "734            NaN              NaN  \n",
       "735            NaN              NaN  \n",
       "736            NaN              NaN  \n",
       "737            NaN              NaN  \n",
       "\n",
       "[738 rows x 47 columns]"
      ]
     },
     "execution_count": 31,
     "metadata": {},
     "output_type": "execute_result"
    }
   ],
   "source": [
    "# data.to_excel('Integrated Staff Data.xlsx', index=False)\n",
    "data2 = data\n",
    "data2"
   ]
  },
  {
   "cell_type": "code",
   "execution_count": 32,
   "metadata": {},
   "outputs": [],
   "source": [
    "def transform_columns(df):\n",
    "    for column in df.columns:\n",
    "        splits = column.lower().split(' ')\n",
    "        n_col = '_'.join(splits)\n",
    "        print(n_col)"
   ]
  },
  {
   "cell_type": "code",
   "execution_count": 33,
   "metadata": {},
   "outputs": [
    {
     "name": "stdout",
     "output_type": "stream",
     "text": [
      "sn\n",
      "psn\n",
      "full_name\n",
      "gender\n",
      "marital_status\n",
      "religion\n",
      "dob\n",
      "gsm\n",
      "email\n",
      "state_of_origin\n",
      "lga\n",
      "hometown\n",
      "address\n",
      "area_office\n",
      "station_category\n",
      "station\n",
      "date_of_first_appointment\n",
      "date_of_present_appointment\n",
      "edr_age\n",
      "edr_yos\n",
      "grade_level\n",
      "present_rank\n",
      "cadre_class\n",
      "cadre\n",
      "appointment_type\n",
      "qualification_class\n",
      "highest_qualification\n",
      "professional_qualification\n",
      "specialization\n",
      "responsibility\n",
      "subject_class\n",
      "subject_taught\n",
      "relevant_subject_class\n",
      "relevant_subject\n",
      "bank\n",
      "account_number\n",
      "bvn\n",
      "nin\n",
      "trcn\n",
      "workload\n",
      "next_of_kin\n",
      "relationship\n",
      "address.1\n",
      "kin_gsm\n",
      "approved_by\n",
      "date_approved\n",
      "approval_status\n"
     ]
    }
   ],
   "source": [
    "transform_columns(data2)"
   ]
  },
  {
   "cell_type": "code",
   "execution_count": 4,
   "metadata": {},
   "outputs": [],
   "source": [
    "conn = sqlite3.connect('instance/emisdb.db')\n",
    "cursor = conn.cursor()"
   ]
  },
  {
   "cell_type": "code",
   "execution_count": 5,
   "metadata": {},
   "outputs": [
    {
     "data": {
      "text/plain": [
       "[('forms',),\n",
       " ('admin',),\n",
       " ('staff',),\n",
       " ('super_user',),\n",
       " ('sqlite_sequence',),\n",
       " ('revoked_tokens',)]"
      ]
     },
     "execution_count": 5,
     "metadata": {},
     "output_type": "execute_result"
    }
   ],
   "source": [
    "cursor.execute('SELECT name FROM sqlite_schema WHERE type=\"table\"').fetchall()"
   ]
  },
  {
   "cell_type": "code",
   "execution_count": 168,
   "metadata": {},
   "outputs": [
    {
     "data": {
      "text/plain": [
       "738"
      ]
     },
     "execution_count": 168,
     "metadata": {},
     "output_type": "execute_result"
    }
   ],
   "source": [
    "data2.to_sql('staff', con=conn, index=False)"
   ]
  },
  {
   "cell_type": "code",
   "execution_count": 151,
   "metadata": {},
   "outputs": [
    {
     "data": {
      "text/plain": [
       "[(0,\n",
       "  1,\n",
       "  None,\n",
       "  'IBRAHIM UMAR S. FADA',\n",
       "  'MALE',\n",
       "  'MARRIED',\n",
       "  'ISLAM',\n",
       "  '16/10/1986',\n",
       "  '07039426873',\n",
       "  'sfadadeba12@gmail.com',\n",
       "  'GOMBE',\n",
       "  'Y/DEBA',\n",
       "  'DEBA',\n",
       "  'H/GANA GOMBE',\n",
       "  'Y/DEBA',\n",
       "  'PUBLIC',\n",
       "  'GCDSS NEW LIJI',\n",
       "  '27/01/2023',\n",
       "  '27/01/2023',\n",
       "  None,\n",
       "  None,\n",
       "  '08/2',\n",
       "  'EO II',\n",
       "  'TEACHING',\n",
       "  'EDUCATION OFFICER',\n",
       "  'TEMPORARY',\n",
       "  'DEGREE',\n",
       "  'B.SD',\n",
       "  'B.E.D. ADMIN PLANNING',\n",
       "  'EDUCATIONAL ADMINISTRATION & PLANNING (COMP)',\n",
       "  'TEACHER',\n",
       "  None,\n",
       "  None,\n",
       "  None,\n",
       "  None,\n",
       "  'UNITY BANK',\n",
       "  22203241.0,\n",
       "  22209594748,\n",
       "  21387242588.0,\n",
       "  'GB/P/02686',\n",
       "  None,\n",
       "  'YAKUBU IBRAHIM',\n",
       "  'BROTHER',\n",
       "  'FAGE DEBA',\n",
       "  '07064359214',\n",
       "  None,\n",
       "  None,\n",
       "  None),\n",
       " (1,\n",
       "  2,\n",
       "  None,\n",
       "  'ABUBAKAR SALIHU MODIBBO',\n",
       "  'MALE',\n",
       "  'SINGLE',\n",
       "  'ISLAM',\n",
       "  '06/06/1994',\n",
       "  '09037849647',\n",
       "  'salihumodibbo@gmail.com',\n",
       "  'GOMBE',\n",
       "  'AKKO',\n",
       "  'KUMO',\n",
       "  'TASHAN MAGARYA KUMO',\n",
       "  'AKKO L.G.A',\n",
       "  'PUBLIC',\n",
       "  'GDSS KUMO',\n",
       "  '27/01/2023',\n",
       "  '27/01/2023',\n",
       "  None,\n",
       "  None,\n",
       "  '08/2',\n",
       "  None,\n",
       "  'TEACHING',\n",
       "  'EDUCATION OFFICER',\n",
       "  'TEMPORARY',\n",
       "  'SECOND CLASS HONOR (UPPER DIVISION)',\n",
       "  'DEGREE',\n",
       "  'BACHELOR DEGREE IN EDUCATION',\n",
       "  'EDUCATION AND ISLAMIC STUDIES',\n",
       "  'EDUCATION OFFFICER II/TEACHER',\n",
       "  'SS1-3',\n",
       "  'I.R.S',\n",
       "  None,\n",
       "  None,\n",
       "  'ACCESS BANK',\n",
       "  1713590925.0,\n",
       "  22347189558,\n",
       "  85695308406.0,\n",
       "  None,\n",
       "  None,\n",
       "  'IBRAHIM A. MODIBBO',\n",
       "  'BROTHER',\n",
       "  'BYPASS GOMBE',\n",
       "  '08022310261',\n",
       "  None,\n",
       "  None,\n",
       "  None)]"
      ]
     },
     "execution_count": 151,
     "metadata": {},
     "output_type": "execute_result"
    }
   ],
   "source": [
    "cursor.execute('SELECT * FROM staff LIMIT 2').fetchall()"
   ]
  },
  {
   "cell_type": "markdown",
   "metadata": {},
   "source": [
    "# Data Analysis on Schools Data\n"
   ]
  },
  {
   "cell_type": "code",
   "execution_count": 2,
   "metadata": {},
   "outputs": [
    {
     "data": {
      "text/html": [
       "<div>\n",
       "<style scoped>\n",
       "    .dataframe tbody tr th:only-of-type {\n",
       "        vertical-align: middle;\n",
       "    }\n",
       "\n",
       "    .dataframe tbody tr th {\n",
       "        vertical-align: top;\n",
       "    }\n",
       "\n",
       "    .dataframe thead th {\n",
       "        text-align: right;\n",
       "    }\n",
       "</style>\n",
       "<table border=\"1\" class=\"dataframe\">\n",
       "  <thead>\n",
       "    <tr style=\"text-align: right;\">\n",
       "      <th></th>\n",
       "      <th>STATE</th>\n",
       "      <th>LGA</th>\n",
       "      <th>NAME_SCHOOL</th>\n",
       "      <th>LATITUDE_NORTH</th>\n",
       "      <th>LONGITUDE_EAST</th>\n",
       "      <th>WARD</th>\n",
       "      <th>NUMBER_AND_STREET</th>\n",
       "      <th>CODE_SCHOOL</th>\n",
       "      <th>SCHOOL_ADMIN_CODE</th>\n",
       "      <th>NAME_TYPE_SECTOR</th>\n",
       "      <th>...</th>\n",
       "      <th>SHARED_FACILITIES_Y_N</th>\n",
       "      <th>SDP_Y_N</th>\n",
       "      <th>SBMC_Y_N</th>\n",
       "      <th>PTA_PF_MA_Y_N</th>\n",
       "      <th>MULTI_GRADE_Y_N</th>\n",
       "      <th>NAME_TYPE_YEAR</th>\n",
       "      <th>MALE_ENROL</th>\n",
       "      <th>FEMALE_ENROL</th>\n",
       "      <th>TOTAL ERLROLMENT</th>\n",
       "      <th>USABLE_CLASSR_GOOD_COND_PRIVATE</th>\n",
       "    </tr>\n",
       "  </thead>\n",
       "  <tbody>\n",
       "    <tr>\n",
       "      <th>0</th>\n",
       "      <td>GOMBE</td>\n",
       "      <td>AKKO</td>\n",
       "      <td>ABBAKALU</td>\n",
       "      <td>10.198805</td>\n",
       "      <td>11.264413</td>\n",
       "      <td>KALSHINGI</td>\n",
       "      <td>ABBAKALU</td>\n",
       "      <td>1160110001</td>\n",
       "      <td>1160110001</td>\n",
       "      <td>Pre-Primary and Primary</td>\n",
       "      <td>...</td>\n",
       "      <td>No</td>\n",
       "      <td>Yes</td>\n",
       "      <td>Yes</td>\n",
       "      <td>Yes</td>\n",
       "      <td>No</td>\n",
       "      <td>2020/2021</td>\n",
       "      <td>59</td>\n",
       "      <td>45</td>\n",
       "      <td>104</td>\n",
       "      <td>2.0</td>\n",
       "    </tr>\n",
       "    <tr>\n",
       "      <th>1</th>\n",
       "      <td>GOMBE</td>\n",
       "      <td>AKKO</td>\n",
       "      <td>AKKO PRIMARY SCHOOL</td>\n",
       "      <td>10.301377</td>\n",
       "      <td>10.925292</td>\n",
       "      <td>AKKO</td>\n",
       "      <td>ALONG BAUCHI ROAD</td>\n",
       "      <td>1160110002</td>\n",
       "      <td>1160110002</td>\n",
       "      <td>Pre-Primary and Primary</td>\n",
       "      <td>...</td>\n",
       "      <td>Yes</td>\n",
       "      <td>Yes</td>\n",
       "      <td>Yes</td>\n",
       "      <td>Yes</td>\n",
       "      <td>No</td>\n",
       "      <td>2020/2021</td>\n",
       "      <td>433</td>\n",
       "      <td>385</td>\n",
       "      <td>818</td>\n",
       "      <td>6.0</td>\n",
       "    </tr>\n",
       "    <tr>\n",
       "      <th>2</th>\n",
       "      <td>GOMBE</td>\n",
       "      <td>AKKO</td>\n",
       "      <td>AKKOYEL  PRIMARY SCHOOL</td>\n",
       "      <td>10.047153</td>\n",
       "      <td>11.221145</td>\n",
       "      <td>KUMO EAST</td>\n",
       "      <td>BEHING EMIRS PALACE KUMO, AKKOYEL</td>\n",
       "      <td>1160110003</td>\n",
       "      <td>1160110003</td>\n",
       "      <td>Pre-Primary and Primary</td>\n",
       "      <td>...</td>\n",
       "      <td>Yes</td>\n",
       "      <td>Yes</td>\n",
       "      <td>Yes</td>\n",
       "      <td>Yes</td>\n",
       "      <td>No</td>\n",
       "      <td>2020/2021</td>\n",
       "      <td>849</td>\n",
       "      <td>799</td>\n",
       "      <td>1648</td>\n",
       "      <td>10.0</td>\n",
       "    </tr>\n",
       "    <tr>\n",
       "      <th>3</th>\n",
       "      <td>GOMBE</td>\n",
       "      <td>AKKO</td>\n",
       "      <td>ARAWA PRIMARY SCHOOL</td>\n",
       "      <td>10.316180</td>\n",
       "      <td>11.175000</td>\n",
       "      <td>GONA</td>\n",
       "      <td>ALONG KUNDULUM ROAD</td>\n",
       "      <td>1160110004</td>\n",
       "      <td>1160110004</td>\n",
       "      <td>Pre-Primary and Primary</td>\n",
       "      <td>...</td>\n",
       "      <td>No</td>\n",
       "      <td>Yes</td>\n",
       "      <td>Yes</td>\n",
       "      <td>Yes</td>\n",
       "      <td>No</td>\n",
       "      <td>2020/2021</td>\n",
       "      <td>675</td>\n",
       "      <td>781</td>\n",
       "      <td>1456</td>\n",
       "      <td>9.0</td>\n",
       "    </tr>\n",
       "    <tr>\n",
       "      <th>4</th>\n",
       "      <td>GOMBE</td>\n",
       "      <td>AKKO</td>\n",
       "      <td>ARDO KADIRI  PRIMARY SCHOOL</td>\n",
       "      <td>10.039988</td>\n",
       "      <td>11.283355</td>\n",
       "      <td>KUMO EAST</td>\n",
       "      <td>ARDO KADIRI</td>\n",
       "      <td>1160110005</td>\n",
       "      <td>1160110005</td>\n",
       "      <td>Pre-Primary and Primary</td>\n",
       "      <td>...</td>\n",
       "      <td>No</td>\n",
       "      <td>No</td>\n",
       "      <td>Yes</td>\n",
       "      <td>Yes</td>\n",
       "      <td>No</td>\n",
       "      <td>2020/2021</td>\n",
       "      <td>125</td>\n",
       "      <td>77</td>\n",
       "      <td>202</td>\n",
       "      <td>4.0</td>\n",
       "    </tr>\n",
       "  </tbody>\n",
       "</table>\n",
       "<p>5 rows × 26 columns</p>\n",
       "</div>"
      ],
      "text/plain": [
       "   STATE   LGA                  NAME_SCHOOL  LATITUDE_NORTH  LONGITUDE_EAST  \\\n",
       "0  GOMBE  AKKO                     ABBAKALU       10.198805       11.264413   \n",
       "1  GOMBE  AKKO          AKKO PRIMARY SCHOOL       10.301377       10.925292   \n",
       "2  GOMBE  AKKO      AKKOYEL  PRIMARY SCHOOL       10.047153       11.221145   \n",
       "3  GOMBE  AKKO         ARAWA PRIMARY SCHOOL       10.316180       11.175000   \n",
       "4  GOMBE  AKKO  ARDO KADIRI  PRIMARY SCHOOL       10.039988       11.283355   \n",
       "\n",
       "        WARD                  NUMBER_AND_STREET  CODE_SCHOOL  \\\n",
       "0  KALSHINGI                           ABBAKALU   1160110001   \n",
       "1       AKKO                  ALONG BAUCHI ROAD   1160110002   \n",
       "2  KUMO EAST  BEHING EMIRS PALACE KUMO, AKKOYEL   1160110003   \n",
       "3       GONA                ALONG KUNDULUM ROAD   1160110004   \n",
       "4  KUMO EAST                        ARDO KADIRI   1160110005   \n",
       "\n",
       "  SCHOOL_ADMIN_CODE         NAME_TYPE_SECTOR  ... SHARED_FACILITIES_Y_N  \\\n",
       "0        1160110001  Pre-Primary and Primary  ...                    No   \n",
       "1        1160110002  Pre-Primary and Primary  ...                   Yes   \n",
       "2        1160110003  Pre-Primary and Primary  ...                   Yes   \n",
       "3        1160110004  Pre-Primary and Primary  ...                    No   \n",
       "4        1160110005  Pre-Primary and Primary  ...                    No   \n",
       "\n",
       "  SDP_Y_N SBMC_Y_N PTA_PF_MA_Y_N MULTI_GRADE_Y_N NAME_TYPE_YEAR MALE_ENROL  \\\n",
       "0     Yes      Yes           Yes              No      2020/2021         59   \n",
       "1     Yes      Yes           Yes              No      2020/2021        433   \n",
       "2     Yes      Yes           Yes              No      2020/2021        849   \n",
       "3     Yes      Yes           Yes              No      2020/2021        675   \n",
       "4      No      Yes           Yes              No      2020/2021        125   \n",
       "\n",
       "  FEMALE_ENROL TOTAL ERLROLMENT USABLE_CLASSR_GOOD_COND_PRIVATE  \n",
       "0           45              104                             2.0  \n",
       "1          385              818                             6.0  \n",
       "2          799             1648                            10.0  \n",
       "3          781             1456                             9.0  \n",
       "4           77              202                             4.0  \n",
       "\n",
       "[5 rows x 26 columns]"
      ]
     },
     "execution_count": 2,
     "metadata": {},
     "output_type": "execute_result"
    }
   ],
   "source": [
    "data = pd.read_excel('00_ABST_SCHOOL_CHARACTERISTICS.xlsx')\n",
    "data.head()"
   ]
  },
  {
   "cell_type": "code",
   "execution_count": 8,
   "metadata": {},
   "outputs": [
    {
     "data": {
      "text/plain": [
       "2922"
      ]
     },
     "execution_count": 8,
     "metadata": {},
     "output_type": "execute_result"
    }
   ],
   "source": [
    "len(data)"
   ]
  },
  {
   "cell_type": "code",
   "execution_count": 31,
   "metadata": {},
   "outputs": [
    {
     "data": {
      "text/html": [
       "<div>\n",
       "<style scoped>\n",
       "    .dataframe tbody tr th:only-of-type {\n",
       "        vertical-align: middle;\n",
       "    }\n",
       "\n",
       "    .dataframe tbody tr th {\n",
       "        vertical-align: top;\n",
       "    }\n",
       "\n",
       "    .dataframe thead th {\n",
       "        text-align: right;\n",
       "    }\n",
       "</style>\n",
       "<table border=\"1\" class=\"dataframe\">\n",
       "  <thead>\n",
       "    <tr style=\"text-align: right;\">\n",
       "      <th></th>\n",
       "      <th>state</th>\n",
       "      <th>lga</th>\n",
       "      <th>name_school</th>\n",
       "      <th>latitude_north</th>\n",
       "      <th>longitude_east</th>\n",
       "      <th>ward</th>\n",
       "      <th>number_and_street</th>\n",
       "      <th>code_school</th>\n",
       "      <th>school_admin_code</th>\n",
       "      <th>name_type_sector</th>\n",
       "      <th>...</th>\n",
       "      <th>shared_facilities_y_n</th>\n",
       "      <th>sdp_y_n</th>\n",
       "      <th>sbmc_y_n</th>\n",
       "      <th>pta_pf_ma_y_n</th>\n",
       "      <th>multi_grade_y_n</th>\n",
       "      <th>name_type_year</th>\n",
       "      <th>male_enrol</th>\n",
       "      <th>female_enrol</th>\n",
       "      <th>total erlrolment</th>\n",
       "      <th>usable_classr_good_cond_private</th>\n",
       "    </tr>\n",
       "  </thead>\n",
       "  <tbody>\n",
       "    <tr>\n",
       "      <th>0</th>\n",
       "      <td>GOMBE</td>\n",
       "      <td>AKKO</td>\n",
       "      <td>ABBAKALU</td>\n",
       "      <td>10.198805</td>\n",
       "      <td>11.264413</td>\n",
       "      <td>KALSHINGI</td>\n",
       "      <td>ABBAKALU</td>\n",
       "      <td>1160110001</td>\n",
       "      <td>1160110001</td>\n",
       "      <td>Pre-Primary and Primary</td>\n",
       "      <td>...</td>\n",
       "      <td>No</td>\n",
       "      <td>Yes</td>\n",
       "      <td>Yes</td>\n",
       "      <td>Yes</td>\n",
       "      <td>No</td>\n",
       "      <td>2020/2021</td>\n",
       "      <td>59</td>\n",
       "      <td>45</td>\n",
       "      <td>104</td>\n",
       "      <td>2.0</td>\n",
       "    </tr>\n",
       "    <tr>\n",
       "      <th>1</th>\n",
       "      <td>GOMBE</td>\n",
       "      <td>AKKO</td>\n",
       "      <td>AKKO PRIMARY SCHOOL</td>\n",
       "      <td>10.301377</td>\n",
       "      <td>10.925292</td>\n",
       "      <td>AKKO</td>\n",
       "      <td>ALONG BAUCHI ROAD</td>\n",
       "      <td>1160110002</td>\n",
       "      <td>1160110002</td>\n",
       "      <td>Pre-Primary and Primary</td>\n",
       "      <td>...</td>\n",
       "      <td>Yes</td>\n",
       "      <td>Yes</td>\n",
       "      <td>Yes</td>\n",
       "      <td>Yes</td>\n",
       "      <td>No</td>\n",
       "      <td>2020/2021</td>\n",
       "      <td>433</td>\n",
       "      <td>385</td>\n",
       "      <td>818</td>\n",
       "      <td>6.0</td>\n",
       "    </tr>\n",
       "    <tr>\n",
       "      <th>2</th>\n",
       "      <td>GOMBE</td>\n",
       "      <td>AKKO</td>\n",
       "      <td>AKKOYEL  PRIMARY SCHOOL</td>\n",
       "      <td>10.047153</td>\n",
       "      <td>11.221145</td>\n",
       "      <td>KUMO EAST</td>\n",
       "      <td>BEHING EMIRS PALACE KUMO, AKKOYEL</td>\n",
       "      <td>1160110003</td>\n",
       "      <td>1160110003</td>\n",
       "      <td>Pre-Primary and Primary</td>\n",
       "      <td>...</td>\n",
       "      <td>Yes</td>\n",
       "      <td>Yes</td>\n",
       "      <td>Yes</td>\n",
       "      <td>Yes</td>\n",
       "      <td>No</td>\n",
       "      <td>2020/2021</td>\n",
       "      <td>849</td>\n",
       "      <td>799</td>\n",
       "      <td>1648</td>\n",
       "      <td>10.0</td>\n",
       "    </tr>\n",
       "    <tr>\n",
       "      <th>3</th>\n",
       "      <td>GOMBE</td>\n",
       "      <td>AKKO</td>\n",
       "      <td>ARAWA PRIMARY SCHOOL</td>\n",
       "      <td>10.316180</td>\n",
       "      <td>11.175000</td>\n",
       "      <td>GONA</td>\n",
       "      <td>ALONG KUNDULUM ROAD</td>\n",
       "      <td>1160110004</td>\n",
       "      <td>1160110004</td>\n",
       "      <td>Pre-Primary and Primary</td>\n",
       "      <td>...</td>\n",
       "      <td>No</td>\n",
       "      <td>Yes</td>\n",
       "      <td>Yes</td>\n",
       "      <td>Yes</td>\n",
       "      <td>No</td>\n",
       "      <td>2020/2021</td>\n",
       "      <td>675</td>\n",
       "      <td>781</td>\n",
       "      <td>1456</td>\n",
       "      <td>9.0</td>\n",
       "    </tr>\n",
       "    <tr>\n",
       "      <th>4</th>\n",
       "      <td>GOMBE</td>\n",
       "      <td>AKKO</td>\n",
       "      <td>ARDO KADIRI  PRIMARY SCHOOL</td>\n",
       "      <td>10.039988</td>\n",
       "      <td>11.283355</td>\n",
       "      <td>KUMO EAST</td>\n",
       "      <td>ARDO KADIRI</td>\n",
       "      <td>1160110005</td>\n",
       "      <td>1160110005</td>\n",
       "      <td>Pre-Primary and Primary</td>\n",
       "      <td>...</td>\n",
       "      <td>No</td>\n",
       "      <td>No</td>\n",
       "      <td>Yes</td>\n",
       "      <td>Yes</td>\n",
       "      <td>No</td>\n",
       "      <td>2020/2021</td>\n",
       "      <td>125</td>\n",
       "      <td>77</td>\n",
       "      <td>202</td>\n",
       "      <td>4.0</td>\n",
       "    </tr>\n",
       "  </tbody>\n",
       "</table>\n",
       "<p>5 rows × 26 columns</p>\n",
       "</div>"
      ],
      "text/plain": [
       "   state   lga                  name_school  latitude_north  longitude_east  \\\n",
       "0  GOMBE  AKKO                     ABBAKALU       10.198805       11.264413   \n",
       "1  GOMBE  AKKO          AKKO PRIMARY SCHOOL       10.301377       10.925292   \n",
       "2  GOMBE  AKKO      AKKOYEL  PRIMARY SCHOOL       10.047153       11.221145   \n",
       "3  GOMBE  AKKO         ARAWA PRIMARY SCHOOL       10.316180       11.175000   \n",
       "4  GOMBE  AKKO  ARDO KADIRI  PRIMARY SCHOOL       10.039988       11.283355   \n",
       "\n",
       "        ward                  number_and_street  code_school  \\\n",
       "0  KALSHINGI                           ABBAKALU   1160110001   \n",
       "1       AKKO                  ALONG BAUCHI ROAD   1160110002   \n",
       "2  KUMO EAST  BEHING EMIRS PALACE KUMO, AKKOYEL   1160110003   \n",
       "3       GONA                ALONG KUNDULUM ROAD   1160110004   \n",
       "4  KUMO EAST                        ARDO KADIRI   1160110005   \n",
       "\n",
       "  school_admin_code         name_type_sector  ... shared_facilities_y_n  \\\n",
       "0        1160110001  Pre-Primary and Primary  ...                    No   \n",
       "1        1160110002  Pre-Primary and Primary  ...                   Yes   \n",
       "2        1160110003  Pre-Primary and Primary  ...                   Yes   \n",
       "3        1160110004  Pre-Primary and Primary  ...                    No   \n",
       "4        1160110005  Pre-Primary and Primary  ...                    No   \n",
       "\n",
       "  sdp_y_n sbmc_y_n pta_pf_ma_y_n multi_grade_y_n name_type_year male_enrol  \\\n",
       "0     Yes      Yes           Yes              No      2020/2021         59   \n",
       "1     Yes      Yes           Yes              No      2020/2021        433   \n",
       "2     Yes      Yes           Yes              No      2020/2021        849   \n",
       "3     Yes      Yes           Yes              No      2020/2021        675   \n",
       "4      No      Yes           Yes              No      2020/2021        125   \n",
       "\n",
       "  female_enrol total erlrolment usable_classr_good_cond_private  \n",
       "0           45              104                             2.0  \n",
       "1          385              818                             6.0  \n",
       "2          799             1648                            10.0  \n",
       "3          781             1456                             9.0  \n",
       "4           77              202                             4.0  \n",
       "\n",
       "[5 rows x 26 columns]"
      ]
     },
     "execution_count": 31,
     "metadata": {},
     "output_type": "execute_result"
    }
   ],
   "source": [
    "# Rename all columns to lower case\n",
    "\n",
    "for column in data.columns:\n",
    "    data.rename(columns={column: column.lower()}, inplace=True)\n",
    "\n",
    "data.head()"
   ]
  },
  {
   "cell_type": "code",
   "execution_count": 32,
   "metadata": {},
   "outputs": [
    {
     "data": {
      "text/plain": [
       "2922"
      ]
     },
     "execution_count": 32,
     "metadata": {},
     "output_type": "execute_result"
    }
   ],
   "source": [
    "data.to_sql('schools', con=conn, index=False)"
   ]
  },
  {
   "cell_type": "code",
   "execution_count": 34,
   "metadata": {},
   "outputs": [
    {
     "data": {
      "text/plain": [
       "lga\n",
       "AKKO            590\n",
       "BALANGA         288\n",
       "BILLIRI         208\n",
       "DUKKU           238\n",
       "FUNAKAYE        196\n",
       "GOMBE           265\n",
       "KALTUNGO        337\n",
       "KWAMI           193\n",
       "NAFADA          148\n",
       "SHONGOM         183\n",
       "YAMALTU/DEBA    276\n",
       "Name: lga, dtype: int64"
      ]
     },
     "execution_count": 34,
     "metadata": {},
     "output_type": "execute_result"
    }
   ],
   "source": [
    "data.groupby('lga')['lga'].count()"
   ]
  },
  {
   "cell_type": "code",
   "execution_count": 86,
   "metadata": {},
   "outputs": [
    {
     "data": {
      "text/plain": [
       "<AxesSubplot:title={'center':'Schools in Gombe State'}, ylabel='LGA'>"
      ]
     },
     "execution_count": 86,
     "metadata": {},
     "output_type": "execute_result"
    },
    {
     "data": {
      "image/png": "[encoded data removed]",
      "text/plain": [
       "<Figure size 1500x600 with 1 Axes>"
      ]
     },
     "metadata": {},
     "output_type": "display_data"
    }
   ],
   "source": [
    "data.groupby('lga')['lga'].count().plot.pie(\n",
    "    ylabel=\"LGA\", title='Schools in Gombe State', autopct='%1.2f%%', figsize=(15, 6), cmap='cividis')"
   ]
  },
  {
   "cell_type": "code",
   "execution_count": 105,
   "metadata": {},
   "outputs": [],
   "source": [
    "def add(arr):\n",
    "    total = 0\n",
    "    for i in arr:\n",
    "        total = total + i\n",
    "\n",
    "    return total"
   ]
  },
  {
   "cell_type": "code",
   "execution_count": 113,
   "metadata": {},
   "outputs": [
    {
     "data": {
      "text/plain": [
       "lga           male_enrol  female_enrol\n",
       "AKKO          107         120             2\n",
       "              39          48              2\n",
       "              40          35              2\n",
       "              43          34              2\n",
       "              47          49              2\n",
       "                                         ..\n",
       "YAMALTU/DEBA  115         53              1\n",
       "                          102             1\n",
       "              116         77              1\n",
       "              117         102             1\n",
       "              1552        1353            1\n",
       "Length: 2892, dtype: int64"
      ]
     },
     "execution_count": 113,
     "metadata": {},
     "output_type": "execute_result"
    }
   ],
   "source": [
    "male = np.array(data[data['lga'] == 'AKKO']['male_enrol'])\n",
    "female = np.array(data[data['lga'] == 'AKKO']['female_enrol'])\n",
    "data.groupby('lga')[['male_enrol', 'female_enrol']].value_counts()"
   ]
  },
  {
   "cell_type": "code",
   "execution_count": 114,
   "metadata": {},
   "outputs": [
    {
     "data": {
      "text/html": [
       "<div>\n",
       "<style scoped>\n",
       "    .dataframe tbody tr th:only-of-type {\n",
       "        vertical-align: middle;\n",
       "    }\n",
       "\n",
       "    .dataframe tbody tr th {\n",
       "        vertical-align: top;\n",
       "    }\n",
       "\n",
       "    .dataframe thead th {\n",
       "        text-align: right;\n",
       "    }\n",
       "</style>\n",
       "<table border=\"1\" class=\"dataframe\">\n",
       "  <thead>\n",
       "    <tr style=\"text-align: right;\">\n",
       "      <th></th>\n",
       "      <th>LGA</th>\n",
       "      <th>Male</th>\n",
       "      <th>Female</th>\n",
       "    </tr>\n",
       "  </thead>\n",
       "  <tbody>\n",
       "  </tbody>\n",
       "</table>\n",
       "</div>"
      ],
      "text/plain": [
       "Empty DataFrame\n",
       "Columns: [LGA, Male, Female]\n",
       "Index: []"
      ]
     },
     "execution_count": 114,
     "metadata": {},
     "output_type": "execute_result"
    }
   ],
   "source": [
    "df = pd.DataFrame(columns=['LGA', 'Male', 'Female'])\n",
    "df"
   ]
  },
  {
   "cell_type": "code",
   "execution_count": 150,
   "metadata": {},
   "outputs": [
    {
     "data": {
      "text/html": [
       "<div>\n",
       "<style scoped>\n",
       "    .dataframe tbody tr th:only-of-type {\n",
       "        vertical-align: middle;\n",
       "    }\n",
       "\n",
       "    .dataframe tbody tr th {\n",
       "        vertical-align: top;\n",
       "    }\n",
       "\n",
       "    .dataframe thead th {\n",
       "        text-align: right;\n",
       "    }\n",
       "</style>\n",
       "<table border=\"1\" class=\"dataframe\">\n",
       "  <thead>\n",
       "    <tr style=\"text-align: right;\">\n",
       "      <th></th>\n",
       "      <th>LGA</th>\n",
       "      <th>Male</th>\n",
       "      <th>Female</th>\n",
       "    </tr>\n",
       "  </thead>\n",
       "  <tbody>\n",
       "    <tr>\n",
       "      <th>AKKO</th>\n",
       "      <td>AKKO</td>\n",
       "      <td>95218</td>\n",
       "      <td>79521</td>\n",
       "    </tr>\n",
       "    <tr>\n",
       "      <th>GOMBE</th>\n",
       "      <td>GOMBE</td>\n",
       "      <td>96247</td>\n",
       "      <td>90713</td>\n",
       "    </tr>\n",
       "    <tr>\n",
       "      <th>BALANGA</th>\n",
       "      <td>BALANGA</td>\n",
       "      <td>35738</td>\n",
       "      <td>35037</td>\n",
       "    </tr>\n",
       "    <tr>\n",
       "      <th>BILLIRI</th>\n",
       "      <td>BILLIRI</td>\n",
       "      <td>37567</td>\n",
       "      <td>35028</td>\n",
       "    </tr>\n",
       "    <tr>\n",
       "      <th>DUKKU</th>\n",
       "      <td>DUKKU</td>\n",
       "      <td>28283</td>\n",
       "      <td>22560</td>\n",
       "    </tr>\n",
       "    <tr>\n",
       "      <th>FUNAKAYE</th>\n",
       "      <td>FUNAKAYE</td>\n",
       "      <td>44599</td>\n",
       "      <td>35001</td>\n",
       "    </tr>\n",
       "    <tr>\n",
       "      <th>KALTUNGO</th>\n",
       "      <td>KALTUNGO</td>\n",
       "      <td>32986</td>\n",
       "      <td>32426</td>\n",
       "    </tr>\n",
       "    <tr>\n",
       "      <th>KWAMI</th>\n",
       "      <td>KWAMI</td>\n",
       "      <td>29774</td>\n",
       "      <td>20462</td>\n",
       "    </tr>\n",
       "    <tr>\n",
       "      <th>NAFADA</th>\n",
       "      <td>NAFADA</td>\n",
       "      <td>29158</td>\n",
       "      <td>20876</td>\n",
       "    </tr>\n",
       "    <tr>\n",
       "      <th>SHONGOM</th>\n",
       "      <td>SHONGOM</td>\n",
       "      <td>23951</td>\n",
       "      <td>21375</td>\n",
       "    </tr>\n",
       "    <tr>\n",
       "      <th>YAMALTU/DEBA</th>\n",
       "      <td>YAMALTU/DEBA</td>\n",
       "      <td>41568</td>\n",
       "      <td>31258</td>\n",
       "    </tr>\n",
       "  </tbody>\n",
       "</table>\n",
       "</div>"
      ],
      "text/plain": [
       "                       LGA   Male Female\n",
       "AKKO                  AKKO  95218  79521\n",
       "GOMBE                GOMBE  96247  90713\n",
       "BALANGA            BALANGA  35738  35037\n",
       "BILLIRI            BILLIRI  37567  35028\n",
       "DUKKU                DUKKU  28283  22560\n",
       "FUNAKAYE          FUNAKAYE  44599  35001\n",
       "KALTUNGO          KALTUNGO  32986  32426\n",
       "KWAMI                KWAMI  29774  20462\n",
       "NAFADA              NAFADA  29158  20876\n",
       "SHONGOM            SHONGOM  23951  21375\n",
       "YAMALTU/DEBA  YAMALTU/DEBA  41568  31258"
      ]
     },
     "execution_count": 150,
     "metadata": {},
     "output_type": "execute_result"
    }
   ],
   "source": [
    "lgas = data['lga'].unique()\n",
    "columns = ['LGA', 'Male', 'Female']\n",
    "df = pd.DataFrame(columns=columns)\n",
    "for lga in lgas:\n",
    "    male = np.array(data[data['lga'] == lga]['male_enrol'])\n",
    "    female = np.array(data[data['lga'] == lga]['female_enrol'])\n",
    "    df2 = pd.DataFrame(columns=columns, data=[\n",
    "                       [lga, add(male), add(female)]], index=[lga])\n",
    "    df = pd.concat([df, df2])\n",
    "\n",
    "df"
   ]
  },
  {
   "cell_type": "code",
   "execution_count": 192,
   "metadata": {},
   "outputs": [
    {
     "data": {
      "image/png": "[encoded data removed]",
      "text/plain": [
       "<Figure size 1700x1000 with 1 Axes>"
      ]
     },
     "metadata": {},
     "output_type": "display_data"
    }
   ],
   "source": [
    "ax = df.plot.bar(figsize=(17, 10), fontsize=16, cmap='winter')\n",
    "plt.title('Total Enrollment by LGA & Gender',\n",
    "          fontdict={\"size\": 25, \"weight\": 800})\n",
    "plt.xlabel(\"LGA\", fontdict={\"size\": 18, \"weight\": 700})\n",
    "plt.xticks(fontsize=16)\n",
    "plt.show()"
   ]
  },
  {
   "cell_type": "code",
   "execution_count": 183,
   "metadata": {},
   "outputs": [
    {
     "data": {
      "text/html": [
       "<div>\n",
       "<style scoped>\n",
       "    .dataframe tbody tr th:only-of-type {\n",
       "        vertical-align: middle;\n",
       "    }\n",
       "\n",
       "    .dataframe tbody tr th {\n",
       "        vertical-align: top;\n",
       "    }\n",
       "\n",
       "    .dataframe thead th {\n",
       "        text-align: right;\n",
       "    }\n",
       "</style>\n",
       "<table border=\"1\" class=\"dataframe\">\n",
       "  <thead>\n",
       "    <tr style=\"text-align: right;\">\n",
       "      <th>Gender</th>\n",
       "      <th>Female</th>\n",
       "      <th>Male</th>\n",
       "    </tr>\n",
       "    <tr>\n",
       "      <th>LGA</th>\n",
       "      <th></th>\n",
       "      <th></th>\n",
       "    </tr>\n",
       "  </thead>\n",
       "  <tbody>\n",
       "    <tr>\n",
       "      <th>AKKO</th>\n",
       "      <td>NaN</td>\n",
       "      <td>15.0</td>\n",
       "    </tr>\n",
       "    <tr>\n",
       "      <th>BALANGA</th>\n",
       "      <td>8.0</td>\n",
       "      <td>NaN</td>\n",
       "    </tr>\n",
       "    <tr>\n",
       "      <th>BILLIRI</th>\n",
       "      <td>12.0</td>\n",
       "      <td>NaN</td>\n",
       "    </tr>\n",
       "    <tr>\n",
       "      <th>GOMBE</th>\n",
       "      <td>NaN</td>\n",
       "      <td>10.0</td>\n",
       "    </tr>\n",
       "  </tbody>\n",
       "</table>\n",
       "</div>"
      ],
      "text/plain": [
       "Gender   Female  Male\n",
       "LGA                  \n",
       "AKKO        NaN  15.0\n",
       "BALANGA     8.0   NaN\n",
       "BILLIRI    12.0   NaN\n",
       "GOMBE       NaN  10.0"
      ]
     },
     "execution_count": 183,
     "metadata": {},
     "output_type": "execute_result"
    }
   ],
   "source": [
    "d = pd.DataFrame({'LGA': ['GOMBE', 'AKKO', 'BALANGA', 'BILLIRI'], 'Gender': [\n",
    "                 'Male', 'Male', 'Female', 'Female'], 'Count': [10, 15, 8, 12]})\n",
    "d = d.pivot(index='LGA', columns='Gender', values='Count')\n",
    "d"
   ]
  },
  {
   "cell_type": "code",
   "execution_count": 184,
   "metadata": {},
   "outputs": [
    {
     "data": {
      "text/plain": [
       "<AxesSubplot:xlabel='LGA'>"
      ]
     },
     "execution_count": 184,
     "metadata": {},
     "output_type": "execute_result"
    },
    {
     "data": {
      "image/png": "[encoded data removed]",
      "text/plain": [
       "<Figure size 640x480 with 1 Axes>"
      ]
     },
     "metadata": {},
     "output_type": "display_data"
    }
   ],
   "source": [
    "d.plot.bar()"
   ]
  },
  {
   "cell_type": "code",
   "execution_count": 25,
   "metadata": {},
   "outputs": [],
   "source": [
    "df = pd.read_sql(\"SELECT * FROM schools\", con=conn)"
   ]
  },
  {
   "cell_type": "code",
   "execution_count": 27,
   "metadata": {},
   "outputs": [
    {
     "data": {
      "text/plain": [
       "Index(['state', 'lga', 'name_school', 'latitude_north', 'longitude_east',\n",
       "       'ward', 'number_and_street', 'code_school', 'school_admin_code',\n",
       "       'name_type_sector', 'name_type_location', 'name_type_school',\n",
       "       'shift_system_y_n', 'name_type_water_source',\n",
       "       'name_type_health_facility', 'any_classes_held_outside_y_n',\n",
       "       'shared_facilities_y_n', 'sdp_y_n', 'sbmc_y_n', 'pta_pf_ma_y_n',\n",
       "       'multi_grade_y_n', 'name_type_year', 'male_enroll', 'female_enroll',\n",
       "       'total_enrollment', 'usable_classr_good_cond_private'],\n",
       "      dtype='object')"
      ]
     },
     "execution_count": 27,
     "metadata": {},
     "output_type": "execute_result"
    }
   ],
   "source": [
    "df.columns"
   ]
  },
  {
   "cell_type": "code",
   "execution_count": 28,
   "metadata": {},
   "outputs": [
    {
     "data": {
      "text/plain": [
       "array(['Pre-Primary and Primary', 'Junior Secondary', 'Senior Secondary',\n",
       "       'Private Education', 'Science and Vocational'], dtype=object)"
      ]
     },
     "execution_count": 28,
     "metadata": {},
     "output_type": "execute_result"
    }
   ],
   "source": [
    "df['name_type_sector'].unique()"
   ]
  },
  {
   "cell_type": "code",
   "execution_count": 33,
   "metadata": {},
   "outputs": [
    {
     "data": {
      "text/plain": [
       "193"
      ]
     },
     "execution_count": 33,
     "metadata": {},
     "output_type": "execute_result"
    }
   ],
   "source": [
    "lga = 'KWAMI'\n",
    "df_lga = df[df['lga'] == lga]\n",
    "len(df_lga)"
   ]
  },
  {
   "cell_type": "code",
   "execution_count": 39,
   "metadata": {},
   "outputs": [
    {
     "name": "stderr",
     "output_type": "stream",
     "text": [
      "/tmp/ipykernel_44252/1789777006.py:1: UserWarning: Boolean Series key will be reindexed to match DataFrame index.\n",
      "  j_sch = df_lga[df['name_type_sector'] == 'Private Education']\n"
     ]
    },
    {
     "data": {
      "text/plain": [
       "13"
      ]
     },
     "execution_count": 39,
     "metadata": {},
     "output_type": "execute_result"
    }
   ],
   "source": [
    "j_sch = df_lga[df['name_type_sector'] == 'Private Education']\n",
    "len(j_sch)"
   ]
  },
  {
   "cell_type": "code",
   "execution_count": 41,
   "metadata": {},
   "outputs": [
    {
     "data": {
      "text/plain": [
       "2301     32\n",
       "2302     96\n",
       "2303    139\n",
       "2304    176\n",
       "2305     58\n",
       "2306    168\n",
       "2307     30\n",
       "2308     43\n",
       "2309     65\n",
       "2310     33\n",
       "2311    107\n",
       "2312    244\n",
       "2313    168\n",
       "Name: male_enroll, dtype: int64"
      ]
     },
     "execution_count": 41,
     "metadata": {},
     "output_type": "execute_result"
    }
   ],
   "source": [
    "j_sch['male_enroll']"
   ]
  },
  {
   "cell_type": "code",
   "execution_count": null,
   "metadata": {},
   "outputs": [],
   "source": []
  }
 ],
 "metadata": {
  "kernelspec": {
   "display_name": "Python 3 (ipykernel)",
   "language": "python",
   "name": "python3"
  },
  "language_info": {
   "codemirror_mode": {
    "name": "ipython",
    "version": 3
   },
   "file_extension": ".py",
   "mimetype": "text/x-python",
   "name": "python",
   "nbconvert_exporter": "python",
   "pygments_lexer": "ipython3",
   "version": "3.9.13"
  }
 },
 "nbformat": 4,
 "nbformat_minor": 2
}
